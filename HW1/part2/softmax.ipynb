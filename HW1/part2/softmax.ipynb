{
 "cells": [
  {
   "cell_type": "markdown",
   "metadata": {},
   "source": [
    "# Softmax exercise\n",
    "\n",
    "*Complete and hand in this completed worksheet (including its outputs and any supporting code outside of the worksheet) with your assignment submission.*\n",
    "\n",
    "In this exercise, you will:\n",
    "\n",
    "- implement a fully-vectorized **loss function** for the Softmax classifier\n",
    "- implement the fully-vectorized expression for its **analytic gradient**\n",
    "- **check your implementation** with numerical gradient\n",
    "- use a validation set to **tune the learning rate and regularization** strength\n",
    "- **optimize** the loss function with **SGD**\n",
    "- **visualize** the final learned weights\n"
   ]
  },
  {
   "cell_type": "markdown",
   "metadata": {},
   "source": [
    "**Acknowledgement: This exercise is adapted from [Stanford CS231n](http://cs231n.stanford.edu/).**"
   ]
  },
  {
   "cell_type": "code",
   "execution_count": 1,
   "metadata": {
    "ExecuteTime": {
     "end_time": "2020-02-24T13:37:13.738536Z",
     "start_time": "2020-02-24T13:37:13.134293Z"
    }
   },
   "outputs": [],
   "source": [
    "import random\n",
    "import numpy as np\n",
    "from data_utils import load_CIFAR10\n",
    "import matplotlib.pyplot as plt\n",
    "\n",
    "%matplotlib inline\n",
    "plt.rcParams['figure.figsize'] = (10.0, 8.0) # set default size of plots\n",
    "plt.rcParams['image.interpolation'] = 'nearest'\n",
    "plt.rcParams['image.cmap'] = 'gray'\n",
    "\n",
    "# for auto-reloading extenrnal modules\n",
    "# see http://stackoverflow.com/questions/1907993/autoreload-of-modules-in-ipython\n",
    "%load_ext autoreload\n",
    "%autoreload 2"
   ]
  },
  {
   "cell_type": "code",
   "execution_count": 2,
   "metadata": {
    "ExecuteTime": {
     "end_time": "2020-02-24T13:37:15.571200Z",
     "start_time": "2020-02-24T13:37:15.548705Z"
    }
   },
   "outputs": [],
   "source": [
    "def rel_error(out, correct_out):\n",
    "    return np.sum(abs(out - correct_out) / (abs(out) + abs(correct_out)))"
   ]
  },
  {
   "cell_type": "code",
   "execution_count": 3,
   "metadata": {
    "ExecuteTime": {
     "end_time": "2020-02-24T13:37:31.778788Z",
     "start_time": "2020-02-24T13:37:20.021499Z"
    }
   },
   "outputs": [
    {
     "name": "stdout",
     "output_type": "stream",
     "text": [
      "Train data shape:  (49000, 3073)\n",
      "Train labels shape:  (49000,)\n",
      "Validation data shape:  (1000, 3073)\n",
      "Validation labels shape:  (1000,)\n",
      "Test data shape:  (1000, 3073)\n",
      "Test labels shape:  (1000,)\n",
      "dev data shape:  (500, 3073)\n",
      "dev labels shape:  (500,)\n"
     ]
    }
   ],
   "source": [
    "def get_CIFAR10_data(num_training=49000, num_validation=1000, num_test=1000, num_dev=500):\n",
    "    \"\"\"\n",
    "    Load the CIFAR-10 dataset from disk and perform preprocessing to prepare\n",
    "    it for the linear classifier. These are the same steps as we used for the\n",
    "    Softmax, but condensed to a single function.  \n",
    "    \"\"\"\n",
    "    # Load the raw CIFAR-10 data\n",
    "    cifar10_dir = 'datasets/cifar-10-batches-py'\n",
    "    X_train, y_train, X_test, y_test = load_CIFAR10(cifar10_dir)\n",
    "\n",
    "    # subsample the data\n",
    "    mask = range(num_training, num_training + num_validation)\n",
    "    X_val = X_train[mask]\n",
    "    y_val = y_train[mask]\n",
    "    mask = range(num_training)\n",
    "    X_train = X_train[mask]\n",
    "    y_train = y_train[mask]\n",
    "    mask = range(num_test)\n",
    "    X_test = X_test[mask]\n",
    "    y_test = y_test[mask]\n",
    "    \n",
    "    # # We will also make a development set, which is a small subset of\n",
    "    # the training set.\n",
    "    mask = np.random.choice(num_training, num_dev, replace=False)\n",
    "    X_dev = X_train[mask]\n",
    "    y_dev = y_train[mask]\n",
    "\n",
    "    # Preprocessing: reshape the image data into rows\n",
    "    X_train = np.reshape(X_train, (X_train.shape[0], -1))\n",
    "    X_val = np.reshape(X_val, (X_val.shape[0], -1))\n",
    "    X_test = np.reshape(X_test, (X_test.shape[0], -1))\n",
    "    X_dev = np.reshape(X_dev, (X_dev.shape[0], -1))\n",
    "\n",
    "    # Normalize the data: subtract the mean image\n",
    "    mean_image = np.mean(X_train, axis = 0)\n",
    "    X_train -= mean_image\n",
    "    X_val -= mean_image\n",
    "    X_test -= mean_image\n",
    "    X_dev -= mean_image\n",
    "\n",
    "    # add bias dimension and transform into columns\n",
    "    X_train = np.hstack([X_train, np.ones((X_train.shape[0], 1))])\n",
    "    X_val = np.hstack([X_val, np.ones((X_val.shape[0], 1))])\n",
    "    X_test = np.hstack([X_test, np.ones((X_test.shape[0], 1))])\n",
    "    X_dev = np.hstack([X_dev, np.ones((X_dev.shape[0], 1))])\n",
    "\n",
    "    return X_train, y_train, X_val, y_val, X_test, y_test, X_dev, y_dev\n",
    "\n",
    "\n",
    "# Invoke the above function to get our data.\n",
    "X_train, y_train, X_val, y_val, X_test, y_test, X_dev, y_dev = get_CIFAR10_data()\n",
    "print('Train data shape: ', X_train.shape)\n",
    "print('Train labels shape: ', y_train.shape)\n",
    "print('Validation data shape: ', X_val.shape)\n",
    "print('Validation labels shape: ', y_val.shape)\n",
    "print('Test data shape: ', X_test.shape)\n",
    "print('Test labels shape: ', y_test.shape)\n",
    "print('dev data shape: ', X_dev.shape)\n",
    "print('dev labels shape: ', y_dev.shape)"
   ]
  },
  {
   "cell_type": "code",
   "execution_count": 4,
   "metadata": {
    "ExecuteTime": {
     "end_time": "2020-02-24T13:38:31.727047Z",
     "start_time": "2020-02-24T13:38:31.710002Z"
    }
   },
   "outputs": [],
   "source": [
    "# Create one-hot vectors for label\n",
    "num_class = 10\n",
    "y_train_oh = np.zeros((y_train.shape[0], 10))\n",
    "y_train_oh[np.arange(y_train.shape[0]), y_train] = 1\n",
    "y_val_oh = np.zeros((y_val.shape[0], 10))\n",
    "y_val_oh[np.arange(y_val.shape[0]), y_val] = 1\n",
    "y_test_oh = np.zeros((y_test.shape[0], 10))\n",
    "y_test_oh[np.arange(y_test.shape[0]), y_test] = 1\n",
    "\n",
    "y_dev_oh = np.zeros((y_dev.shape[0], 10))\n",
    "y_dev_oh[np.arange(y_dev.shape[0]), y_dev] = 1"
   ]
  },
  {
   "cell_type": "markdown",
   "metadata": {},
   "source": [
    "# Regression as classifier\n",
    "The most simple and straightforward approach to learn a classifier is to map the input data (raw image values) to class label (one-hot vector). The loss function is defined as following: \n",
    "$$\\mathcal{L}=\\frac{1}{n}\\|\\mathbf{X}\\mathbf{W}-\\mathbf{y}\\|_F^2\\qquad\\qquad(1)$$\n",
    "Where:\n",
    "* $\\mathbf{W}\\in \\mathbb{R}^{(d+1)\\times C}$: Classifier weight\n",
    "* $\\mathbf{X}\\in \\mathbb{R}^{n\\times (d+1)}$: Dataset\n",
    "* $\\mathbf{y}\\in \\mathbb{R}^{n\\times C}$: Class label (one-hot vector)"
   ]
  },
  {
   "cell_type": "markdown",
   "metadata": {},
   "source": [
    "# Optimization\n",
    "Given the loss function (1), the next problem is how to solve the weight $\\mathbf{W}$. We now discuss 2 approaches: \n",
    " * Random search\n",
    " * Closed-form solution\n",
    "\n",
    "## Random search"
   ]
  },
  {
   "cell_type": "code",
   "execution_count": 5,
   "metadata": {
    "ExecuteTime": {
     "end_time": "2020-02-24T13:39:10.160165Z",
     "start_time": "2020-02-24T13:39:09.974380Z"
    }
   },
   "outputs": [
    {
     "name": "stdout",
     "output_type": "stream",
     "text": [
      "in attempt 0 the loss was 33.511965, best 33.511965\n",
      "in attempt 1 the loss was 32.942698, best 32.942698\n",
      "in attempt 2 the loss was 33.209421, best 32.942698\n",
      "in attempt 3 the loss was 36.345884, best 32.942698\n",
      "in attempt 4 the loss was 34.214308, best 32.942698\n",
      "in attempt 5 the loss was 32.895024, best 32.895024\n",
      "in attempt 6 the loss was 33.885014, best 32.895024\n",
      "in attempt 7 the loss was 33.248023, best 32.895024\n",
      "in attempt 8 the loss was 33.803761, best 32.895024\n",
      "in attempt 9 the loss was 32.985258, best 32.895024\n",
      "in attempt 10 the loss was 33.646670, best 32.895024\n",
      "in attempt 11 the loss was 31.909905, best 31.909905\n",
      "in attempt 12 the loss was 36.059044, best 31.909905\n",
      "in attempt 13 the loss was 33.473217, best 31.909905\n",
      "in attempt 14 the loss was 32.919091, best 31.909905\n",
      "in attempt 15 the loss was 33.935860, best 31.909905\n",
      "in attempt 16 the loss was 33.148792, best 31.909905\n",
      "in attempt 17 the loss was 31.758729, best 31.758729\n",
      "in attempt 18 the loss was 30.316365, best 30.316365\n",
      "in attempt 19 the loss was 33.880570, best 30.316365\n",
      "in attempt 20 the loss was 31.697490, best 30.316365\n",
      "in attempt 21 the loss was 33.677163, best 30.316365\n",
      "in attempt 22 the loss was 34.041786, best 30.316365\n",
      "in attempt 23 the loss was 36.835644, best 30.316365\n",
      "in attempt 24 the loss was 32.767556, best 30.316365\n",
      "in attempt 25 the loss was 31.604912, best 30.316365\n",
      "in attempt 26 the loss was 34.738829, best 30.316365\n",
      "in attempt 27 the loss was 35.970546, best 30.316365\n",
      "in attempt 28 the loss was 32.914453, best 30.316365\n",
      "in attempt 29 the loss was 32.639365, best 30.316365\n",
      "in attempt 30 the loss was 33.614944, best 30.316365\n",
      "in attempt 31 the loss was 33.599399, best 30.316365\n",
      "in attempt 32 the loss was 31.661657, best 30.316365\n",
      "in attempt 33 the loss was 30.919367, best 30.316365\n",
      "in attempt 34 the loss was 30.119197, best 30.119197\n",
      "in attempt 35 the loss was 32.563549, best 30.119197\n",
      "in attempt 36 the loss was 33.364664, best 30.119197\n",
      "in attempt 37 the loss was 34.662995, best 30.119197\n",
      "in attempt 38 the loss was 30.259136, best 30.119197\n",
      "in attempt 39 the loss was 34.339879, best 30.119197\n",
      "in attempt 40 the loss was 34.114329, best 30.119197\n",
      "in attempt 41 the loss was 33.385931, best 30.119197\n",
      "in attempt 42 the loss was 33.652373, best 30.119197\n",
      "in attempt 43 the loss was 34.795289, best 30.119197\n",
      "in attempt 44 the loss was 32.235930, best 30.119197\n",
      "in attempt 45 the loss was 34.059379, best 30.119197\n",
      "in attempt 46 the loss was 32.184823, best 30.119197\n",
      "in attempt 47 the loss was 33.033720, best 30.119197\n",
      "in attempt 48 the loss was 32.920433, best 30.119197\n",
      "in attempt 49 the loss was 33.025990, best 30.119197\n",
      "in attempt 50 the loss was 33.032762, best 30.119197\n",
      "in attempt 51 the loss was 33.545832, best 30.119197\n",
      "in attempt 52 the loss was 31.078861, best 30.119197\n",
      "in attempt 53 the loss was 36.586025, best 30.119197\n",
      "in attempt 54 the loss was 34.361753, best 30.119197\n",
      "in attempt 55 the loss was 31.059729, best 30.119197\n",
      "in attempt 56 the loss was 34.852251, best 30.119197\n",
      "in attempt 57 the loss was 32.379491, best 30.119197\n",
      "in attempt 58 the loss was 33.499719, best 30.119197\n",
      "in attempt 59 the loss was 32.274094, best 30.119197\n",
      "in attempt 60 the loss was 32.810484, best 30.119197\n",
      "in attempt 61 the loss was 32.999403, best 30.119197\n",
      "in attempt 62 the loss was 35.468815, best 30.119197\n",
      "in attempt 63 the loss was 35.608318, best 30.119197\n",
      "in attempt 64 the loss was 32.682026, best 30.119197\n",
      "in attempt 65 the loss was 32.590728, best 30.119197\n",
      "in attempt 66 the loss was 32.360285, best 30.119197\n",
      "in attempt 67 the loss was 31.975561, best 30.119197\n",
      "in attempt 68 the loss was 32.750229, best 30.119197\n",
      "in attempt 69 the loss was 35.135445, best 30.119197\n",
      "in attempt 70 the loss was 33.950378, best 30.119197\n",
      "in attempt 71 the loss was 32.908049, best 30.119197\n",
      "in attempt 72 the loss was 32.487893, best 30.119197\n",
      "in attempt 73 the loss was 31.880010, best 30.119197\n",
      "in attempt 74 the loss was 34.270026, best 30.119197\n",
      "in attempt 75 the loss was 36.420192, best 30.119197\n",
      "in attempt 76 the loss was 33.511067, best 30.119197\n",
      "in attempt 77 the loss was 33.224083, best 30.119197\n",
      "in attempt 78 the loss was 33.753587, best 30.119197\n",
      "in attempt 79 the loss was 30.661955, best 30.119197\n",
      "in attempt 80 the loss was 33.954384, best 30.119197\n",
      "in attempt 81 the loss was 33.454735, best 30.119197\n",
      "in attempt 82 the loss was 33.302598, best 30.119197\n",
      "in attempt 83 the loss was 32.262842, best 30.119197\n",
      "in attempt 84 the loss was 34.432291, best 30.119197\n",
      "in attempt 85 the loss was 33.557840, best 30.119197\n",
      "in attempt 86 the loss was 34.423466, best 30.119197\n",
      "in attempt 87 the loss was 33.307590, best 30.119197\n",
      "in attempt 88 the loss was 33.617031, best 30.119197\n",
      "in attempt 89 the loss was 31.445123, best 30.119197\n",
      "in attempt 90 the loss was 30.202855, best 30.119197\n",
      "in attempt 91 the loss was 30.881488, best 30.119197\n",
      "in attempt 92 the loss was 33.837270, best 30.119197\n",
      "in attempt 93 the loss was 33.190690, best 30.119197\n",
      "in attempt 94 the loss was 35.689029, best 30.119197\n",
      "in attempt 95 the loss was 34.548551, best 30.119197\n",
      "in attempt 96 the loss was 34.711756, best 30.119197\n",
      "in attempt 97 the loss was 31.477105, best 30.119197\n",
      "in attempt 98 the loss was 32.095748, best 30.119197\n",
      "in attempt 99 the loss was 34.252325, best 30.119197\n"
     ]
    }
   ],
   "source": [
    "bestloss = float('inf')\n",
    "for num in range(100):\n",
    "    W = np.random.randn(3073, 10) * 0.0001\n",
    "    loss = np.linalg.norm(X_dev.dot(W) - y_dev_oh)\n",
    "    if (loss < bestloss):\n",
    "        bestloss = loss\n",
    "        bestW = W\n",
    "    print('in attempt %d the loss was %f, best %f' % (num, loss, bestloss))"
   ]
  },
  {
   "cell_type": "code",
   "execution_count": 6,
   "metadata": {
    "ExecuteTime": {
     "end_time": "2020-02-24T13:41:49.398787Z",
     "start_time": "2020-02-24T13:41:49.374252Z"
    }
   },
   "outputs": [
    {
     "name": "stdout",
     "output_type": "stream",
     "text": [
      "Accuracy on train set:  8.799999999999999\n",
      "Accuracy on test set:  10.7\n"
     ]
    }
   ],
   "source": [
    "# How bestW perform:\n",
    "print('Accuracy on train set: ', np.sum(np.argmin(np.abs(1 - X_dev.dot(W)), axis=1) == y_dev).astype(np.float32)/y_dev.shape[0]*100)\n",
    "print('Accuracy on test set: ', np.sum(np.argmin(np.abs(1 - X_test.dot(W)), axis=1) == y_test).astype(np.float32)/y_test.shape[0]*100)"
   ]
  },
  {
   "cell_type": "markdown",
   "metadata": {},
   "source": [
    "You can clearly see that the performance is very low, almost at the random level."
   ]
  },
  {
   "cell_type": "markdown",
   "metadata": {},
   "source": [
    "## Closed-form solution\n",
    "The closed-form solution is achieved by:\n",
    "$$\\frac{\\partial\\mathcal{L}}{\\partial \\mathbf{W}}=\\frac{2}{n}\\mathbf{X}^T(\\mathbf{X}\\mathbf{W}-\\mathbf{y})=0$$\n",
    "\n",
    "$$\\Leftrightarrow\\mathbf{W}^\\ast=(\\mathbf{X}^T\\mathbf{X})^{-1}\\mathbf{X}^T\\mathbf{y}$$"
   ]
  },
  {
   "cell_type": "code",
   "execution_count": 9,
   "metadata": {
    "ExecuteTime": {
     "end_time": "2020-02-24T13:42:56.540830Z",
     "start_time": "2020-02-24T13:42:47.305709Z"
    }
   },
   "outputs": [],
   "source": [
    "################################################################################\n",
    "# TODO:                                                                        #\n",
    "# Implement the closed-form solution of the weight W.                          #\n",
    "################################################################################\n",
    "W = np.dot(np.dot(np.linalg.inv(np.dot(X_train.T,X_train)),X_train.T), y_train_oh)\n",
    "pass\n",
    "################################################################################\n",
    "#                              END OF YOUR CODE                                #\n",
    "################################################################################"
   ]
  },
  {
   "cell_type": "code",
   "execution_count": 10,
   "metadata": {
    "ExecuteTime": {
     "end_time": "2020-02-24T13:42:56.657860Z",
     "start_time": "2020-02-24T13:42:56.542697Z"
    }
   },
   "outputs": [
    {
     "name": "stdout",
     "output_type": "stream",
     "text": [
      "Train set accuracy:  51.163265306122454\n",
      "Test set accuracy:  36.199999999999996\n"
     ]
    }
   ],
   "source": [
    "# Check accuracy:\n",
    "print('Train set accuracy: ', np.sum(np.argmin(np.abs(1 - X_train.dot(W)), axis=1) == y_train).astype(np.float32)/y_train.shape[0]*100)\n",
    "print('Test set accuracy: ', np.sum(np.argmin(np.abs(1 - X_test.dot(W)), axis=1) == y_test).astype(np.float32)/y_test.shape[0]*100)"
   ]
  },
  {
   "cell_type": "markdown",
   "metadata": {},
   "source": [
    "Now, you can see that the performance is much better."
   ]
  },
  {
   "cell_type": "markdown",
   "metadata": {},
   "source": [
    "## Regularization\n",
    "A simple way to improve performance is to include the L2-regularization penalty.\n",
    "$$\\mathcal{L}=\\frac{1}{n}\\|\\mathbf{X}\\mathbf{W}-\\mathbf{y}\\|_F^2 +\\lambda \\|\\mathbf{W}\\|_F^2 \\qquad\\qquad(2)$$\n",
    "The closed-form solution now is: \n",
    "$$\\Leftrightarrow\\mathbf{W}^\\ast=(\\mathbf{X}^T\\mathbf{X}+\\lambda n\\mathbf{I})^{-1}\\mathbf{X}^T\\mathbf{y}$$"
   ]
  },
  {
   "cell_type": "code",
   "execution_count": 11,
   "metadata": {
    "ExecuteTime": {
     "end_time": "2020-02-24T13:48:26.054936Z",
     "start_time": "2020-02-24T13:46:51.918415Z"
    }
   },
   "outputs": [],
   "source": [
    "# try several values of lambda to see how it helps:\n",
    "lambdas = [0.01, 0.1, 1, 10, 100, 1000, 10000, 100000]\n",
    "train_acc = np.zeros((len(lambdas)))\n",
    "test_acc = np.zeros((len(lambdas)))\n",
    "for i in range(len(lambdas)):\n",
    "    l = lambdas[i]\n",
    "    n,d = X_train.shape[0], X_train.shape[1]\n",
    "    ################################################################################\n",
    "    # TODO:                                                                        #\n",
    "    # Implement the closed-form solution of the weight W with regularization.      #\n",
    "    ################################################################################\n",
    "    W = np.dot(np.dot(np.linalg.inv(np.dot(X_train.T,X_train) + l * n * np.identity(d)),X_train.T), y_train_oh)\n",
    "    pass\n",
    "    ################################################################################\n",
    "    #                              END OF YOUR CODE                                #\n",
    "    ################################################################################\n",
    "    train_acc[i] = np.sum(np.argmin(np.abs(1 - X_train.dot(W)), axis=1) == y_train).astype(np.float32)/y_train.shape[0]*100\n",
    "    test_acc[i]  = np.sum(np.argmin(np.abs(1 - X_test.dot(W)), axis=1) == y_test).astype(np.float32)/y_test.shape[0]*100"
   ]
  },
  {
   "cell_type": "code",
   "execution_count": 12,
   "metadata": {
    "ExecuteTime": {
     "end_time": "2020-02-24T13:48:26.562635Z",
     "start_time": "2020-02-24T13:48:26.056959Z"
    }
   },
   "outputs": [
    {
     "data": {
      "image/png": "[encoded data removed]",
      "text/plain": [
       "<Figure size 432x288 with 1 Axes>"
      ]
     },
     "metadata": {
      "needs_background": "light"
     },
     "output_type": "display_data"
    }
   ],
   "source": [
    "plt.semilogx(lambdas, train_acc, 'r', label=\"Training accuracy\")\n",
    "plt.semilogx(lambdas, test_acc, 'g', label=\"Testing accuracy\")\n",
    "\n",
    "plt.legend()\n",
    "plt.grid(True)\n",
    "plt.show()"
   ]
  },
  {
   "cell_type": "markdown",
   "metadata": {},
   "source": [
    "**Question:** Try to explain why the performances on the training and test set have such behaviors as we change the value of $\\lambda$."
   ]
  },
  {
   "cell_type": "markdown",
   "metadata": {},
   "source": [
    "**Your answer:** As we increase the value of $\\lambda$, the values of the weights would be smaller because large weights are penalised heavily. This would reduce the likelihood of overfitting on the training set up till a certain point before the testing accuracy starts to drop."
   ]
  },
  {
   "cell_type": "markdown",
   "metadata": {},
   "source": [
    "## Softmax Classifier\n",
    "\n",
    "The predicted probability for the $j$-th class given a sample vector $x$ and a weight $W$ is:\n",
    "\n",
    "$$\\displaystyle{P(y=j\\mid x)=\\frac{e^{-xw_j}}{\\sum\\limits_{c=1}^{C}e^{-xw_c}}}$$ \n",
    "\n",
    "![softmax](imgs/softmax.png \"Example of Softmax\")\n",
    "\n",
    "Your code for this section will all be written inside **classifiers/softmax.py**. \n"
   ]
  },
  {
   "cell_type": "code",
   "execution_count": 46,
   "metadata": {
    "ExecuteTime": {
     "end_time": "2020-02-24T14:37:34.712230Z",
     "start_time": "2020-02-24T14:37:34.566136Z"
    },
    "scrolled": true
   },
   "outputs": [
    {
     "name": "stdout",
     "output_type": "stream",
     "text": [
      "loss: 2.303720\n",
      "sanity check: 2.302585\n"
     ]
    }
   ],
   "source": [
    "# First implement the naive softmax loss function with nested loops.\n",
    "# Open the file classifiers/softmax.py and implement the\n",
    "# softmax_loss_naive function.\n",
    "\n",
    "from classifiers.softmax import softmax_loss_naive\n",
    "import time\n",
    "\n",
    "# Generate a random softmax weight matrix and use it to compute the loss.\n",
    "W = np.random.randn(3073, 10) * 0.0001\n",
    "\n",
    "loss, grad = softmax_loss_naive(W, X_dev, y_dev, 0.0)\n",
    "\n",
    "# As a rough sanity check, our loss should be something close to -log(0.1).\n",
    "print('loss: %f' % loss)\n",
    "print('sanity check: %f' % (-np.log(0.1)))"
   ]
  },
  {
   "cell_type": "markdown",
   "metadata": {},
   "source": [
    "**Question:** Why do we expect our loss to be close to -log(0.1)? Explain briefly.**"
   ]
  },
  {
   "cell_type": "markdown",
   "metadata": {},
   "source": [
    "**Your answer:** For randomly generated weights, we expect the accuracy to be 1/num_of_classes. Hence, we expect the accuracy to be 1/10 = 0.1. The corresponding cross entropy loss would be -log(0.1). If we calculate the cross-entropy loss averaged over the number of samples, we would get a loss close to -log(0.1)."
   ]
  },
  {
   "cell_type": "markdown",
   "metadata": {},
   "source": [
    "# Optimization\n",
    "\n",
    "\n",
    "## Random search"
   ]
  },
  {
   "cell_type": "code",
   "execution_count": 47,
   "metadata": {
    "ExecuteTime": {
     "end_time": "2020-02-24T14:38:13.518312Z",
     "start_time": "2020-02-24T14:37:59.979685Z"
    }
   },
   "outputs": [
    {
     "name": "stdout",
     "output_type": "stream",
     "text": [
      "in attempt 0 the loss was 2.375001, best 2.375001\n",
      "in attempt 1 the loss was 2.320775, best 2.320775\n",
      "in attempt 2 the loss was 2.345791, best 2.320775\n",
      "in attempt 3 the loss was 2.352208, best 2.320775\n",
      "in attempt 4 the loss was 2.430905, best 2.320775\n",
      "in attempt 5 the loss was 2.346912, best 2.320775\n",
      "in attempt 6 the loss was 2.418110, best 2.320775\n",
      "in attempt 7 the loss was 2.405395, best 2.320775\n",
      "in attempt 8 the loss was 2.315367, best 2.315367\n",
      "in attempt 9 the loss was 2.326136, best 2.315367\n",
      "in attempt 10 the loss was 2.340587, best 2.315367\n",
      "in attempt 11 the loss was 2.377550, best 2.315367\n",
      "in attempt 12 the loss was 2.360655, best 2.315367\n",
      "in attempt 13 the loss was 2.368569, best 2.315367\n",
      "in attempt 14 the loss was 2.386349, best 2.315367\n",
      "in attempt 15 the loss was 2.321577, best 2.315367\n",
      "in attempt 16 the loss was 2.381462, best 2.315367\n",
      "in attempt 17 the loss was 2.336752, best 2.315367\n",
      "in attempt 18 the loss was 2.367323, best 2.315367\n",
      "in attempt 19 the loss was 2.342453, best 2.315367\n",
      "in attempt 20 the loss was 2.324627, best 2.315367\n",
      "in attempt 21 the loss was 2.345790, best 2.315367\n",
      "in attempt 22 the loss was 2.340132, best 2.315367\n",
      "in attempt 23 the loss was 2.368962, best 2.315367\n",
      "in attempt 24 the loss was 2.360684, best 2.315367\n",
      "in attempt 25 the loss was 2.365669, best 2.315367\n",
      "in attempt 26 the loss was 2.399377, best 2.315367\n",
      "in attempt 27 the loss was 2.326907, best 2.315367\n",
      "in attempt 28 the loss was 2.359920, best 2.315367\n",
      "in attempt 29 the loss was 2.391363, best 2.315367\n",
      "in attempt 30 the loss was 2.370329, best 2.315367\n",
      "in attempt 31 the loss was 2.298594, best 2.298594\n",
      "in attempt 32 the loss was 2.338286, best 2.298594\n",
      "in attempt 33 the loss was 2.318303, best 2.298594\n",
      "in attempt 34 the loss was 2.395014, best 2.298594\n",
      "in attempt 35 the loss was 2.356793, best 2.298594\n",
      "in attempt 36 the loss was 2.432913, best 2.298594\n",
      "in attempt 37 the loss was 2.372128, best 2.298594\n",
      "in attempt 38 the loss was 2.344662, best 2.298594\n",
      "in attempt 39 the loss was 2.351168, best 2.298594\n",
      "in attempt 40 the loss was 2.409981, best 2.298594\n",
      "in attempt 41 the loss was 2.326681, best 2.298594\n",
      "in attempt 42 the loss was 2.400825, best 2.298594\n",
      "in attempt 43 the loss was 2.369464, best 2.298594\n",
      "in attempt 44 the loss was 2.312174, best 2.298594\n",
      "in attempt 45 the loss was 2.366515, best 2.298594\n",
      "in attempt 46 the loss was 2.433375, best 2.298594\n",
      "in attempt 47 the loss was 2.372797, best 2.298594\n",
      "in attempt 48 the loss was 2.309780, best 2.298594\n",
      "in attempt 49 the loss was 2.360845, best 2.298594\n",
      "in attempt 50 the loss was 2.390805, best 2.298594\n",
      "in attempt 51 the loss was 2.349674, best 2.298594\n",
      "in attempt 52 the loss was 2.376475, best 2.298594\n",
      "in attempt 53 the loss was 2.409664, best 2.298594\n",
      "in attempt 54 the loss was 2.360877, best 2.298594\n",
      "in attempt 55 the loss was 2.322761, best 2.298594\n",
      "in attempt 56 the loss was 2.326423, best 2.298594\n",
      "in attempt 57 the loss was 2.347341, best 2.298594\n",
      "in attempt 58 the loss was 2.355856, best 2.298594\n",
      "in attempt 59 the loss was 2.370371, best 2.298594\n",
      "in attempt 60 the loss was 2.383467, best 2.298594\n",
      "in attempt 61 the loss was 2.370819, best 2.298594\n",
      "in attempt 62 the loss was 2.410374, best 2.298594\n",
      "in attempt 63 the loss was 2.369498, best 2.298594\n",
      "in attempt 64 the loss was 2.402574, best 2.298594\n",
      "in attempt 65 the loss was 2.315825, best 2.298594\n",
      "in attempt 66 the loss was 2.333492, best 2.298594\n",
      "in attempt 67 the loss was 2.419568, best 2.298594\n",
      "in attempt 68 the loss was 2.398187, best 2.298594\n",
      "in attempt 69 the loss was 2.327303, best 2.298594\n",
      "in attempt 70 the loss was 2.406260, best 2.298594\n",
      "in attempt 71 the loss was 2.354951, best 2.298594\n",
      "in attempt 72 the loss was 2.400729, best 2.298594\n",
      "in attempt 73 the loss was 2.360167, best 2.298594\n",
      "in attempt 74 the loss was 2.336211, best 2.298594\n",
      "in attempt 75 the loss was 2.337776, best 2.298594\n",
      "in attempt 76 the loss was 2.322251, best 2.298594\n",
      "in attempt 77 the loss was 2.318773, best 2.298594\n",
      "in attempt 78 the loss was 2.370630, best 2.298594\n",
      "in attempt 79 the loss was 2.361083, best 2.298594\n",
      "in attempt 80 the loss was 2.401174, best 2.298594\n",
      "in attempt 81 the loss was 2.318454, best 2.298594\n",
      "in attempt 82 the loss was 2.397926, best 2.298594\n",
      "in attempt 83 the loss was 2.357923, best 2.298594\n",
      "in attempt 84 the loss was 2.323261, best 2.298594\n",
      "in attempt 85 the loss was 2.370536, best 2.298594\n",
      "in attempt 86 the loss was 2.377322, best 2.298594\n",
      "in attempt 87 the loss was 2.400366, best 2.298594\n",
      "in attempt 88 the loss was 2.371605, best 2.298594\n",
      "in attempt 89 the loss was 2.381317, best 2.298594\n",
      "in attempt 90 the loss was 2.403631, best 2.298594\n",
      "in attempt 91 the loss was 2.432916, best 2.298594\n",
      "in attempt 92 the loss was 2.345833, best 2.298594\n",
      "in attempt 93 the loss was 2.344352, best 2.298594\n",
      "in attempt 94 the loss was 2.366765, best 2.298594\n",
      "in attempt 95 the loss was 2.429372, best 2.298594\n",
      "in attempt 96 the loss was 2.375323, best 2.298594\n",
      "in attempt 97 the loss was 2.330415, best 2.298594\n",
      "in attempt 98 the loss was 2.350327, best 2.298594\n",
      "in attempt 99 the loss was 2.353177, best 2.298594\n"
     ]
    }
   ],
   "source": [
    "bestloss = float('inf')\n",
    "for num in range(100):\n",
    "    W = np.random.randn(3073, 10) * 0.0001\n",
    "    loss, _ = softmax_loss_naive(W, X_dev, y_dev, 0.0)\n",
    "    if (loss < bestloss):\n",
    "        bestloss = loss\n",
    "        bestW = W\n",
    "    print('in attempt %d the loss was %f, best %f' % (num, loss, bestloss))"
   ]
  },
  {
   "cell_type": "code",
   "execution_count": 49,
   "metadata": {
    "ExecuteTime": {
     "end_time": "2020-02-24T14:38:27.322899Z",
     "start_time": "2020-02-24T14:38:27.235958Z"
    }
   },
   "outputs": [
    {
     "name": "stdout",
     "output_type": "stream",
     "text": [
      "Accuracy on train set 0.110306\n",
      "Accuracy on test set 0.109000\n"
     ]
    }
   ],
   "source": [
    "# How bestW perform on trainset\n",
    "scores = X_train.dot(bestW)\n",
    "y_pred = np.argmax(scores, axis=1)\n",
    "print('Accuracy on train set %f' % np.mean(y_pred == y_train))\n",
    "\n",
    "# evaluate performance of test set\n",
    "scores = X_test.dot(bestW)\n",
    "y_pred = np.argmax(scores, axis=1)\n",
    "print('Accuracy on test set %f' % np.mean(y_pred == y_test))"
   ]
  },
  {
   "cell_type": "markdown",
   "metadata": {},
   "source": [
    "Compare the performance when using random search with *regression classifier* and *softmax classifier*. You can see how much useful the softmax classifier is."
   ]
  },
  {
   "cell_type": "markdown",
   "metadata": {},
   "source": [
    "## Stochastic Gradient descent\n",
    "Even though it is possible to achieve closed-form solution with softmax classifier, it would be more complicated. In fact, we could achieve very good results with gradient descent approach. Additionally, in case of very large dataset, it is impossible to load the whole dataset into the memory. Gradient descent can help to optimize the loss function in batch. \n",
    "\n",
    "$$\\mathbf{W}^{t+1}=\\mathbf{W}^{t}−\\alpha \\frac{\\partial\\mathcal{L(\\mathbf{x};\\mathbf{W}^{t})}}{\\partial\\mathbf{W}^{t}}$$\n",
    "\n",
    "Where $\\alpha$ is the learning rate, $\\mathcal{L}$ is a loss function, and $\\mathbf{x}$ is a batch of training dataset."
   ]
  },
  {
   "cell_type": "code",
   "execution_count": 50,
   "metadata": {
    "ExecuteTime": {
     "end_time": "2020-02-24T14:39:06.401494Z",
     "start_time": "2020-02-24T14:38:59.045429Z"
    }
   },
   "outputs": [
    {
     "name": "stdout",
     "output_type": "stream",
     "text": [
      "numerical: -0.534007 analytic: -0.534007, relative error: 5.367767e-08\n",
      "numerical: 1.875781 analytic: 1.875781, relative error: 8.450498e-09\n",
      "numerical: 0.626785 analytic: 0.626785, relative error: 6.777551e-08\n",
      "numerical: 0.046615 analytic: 0.046615, relative error: 1.110668e-08\n",
      "numerical: 0.751706 analytic: 0.751706, relative error: 8.287214e-08\n",
      "numerical: -0.278239 analytic: -0.278239, relative error: 1.520189e-07\n",
      "numerical: 0.863905 analytic: 0.863905, relative error: 3.909978e-08\n",
      "numerical: -0.826082 analytic: -0.826082, relative error: 4.099538e-08\n",
      "numerical: 1.096811 analytic: 1.096811, relative error: 1.938857e-08\n",
      "numerical: -0.588661 analytic: -0.588661, relative error: 5.819751e-08\n",
      "numerical: -2.465280 analytic: -2.465280, relative error: 6.326240e-09\n",
      "numerical: -2.484994 analytic: -2.484994, relative error: 2.135952e-09\n",
      "numerical: -1.742793 analytic: -1.742793, relative error: 4.291529e-09\n",
      "numerical: -1.105372 analytic: -1.105372, relative error: 4.298087e-08\n",
      "numerical: 2.359077 analytic: 2.359077, relative error: 9.845984e-09\n",
      "numerical: 3.121784 analytic: 3.121784, relative error: 3.687542e-09\n",
      "numerical: -0.199742 analytic: -0.199742, relative error: 9.273410e-10\n",
      "numerical: 2.011201 analytic: 2.011201, relative error: 1.606529e-08\n",
      "numerical: -0.155978 analytic: -0.155978, relative error: 7.944958e-08\n",
      "numerical: -0.970505 analytic: -0.970505, relative error: 2.090362e-08\n"
     ]
    }
   ],
   "source": [
    "# Complete the implementation of softmax_loss_naive and implement a (naive)\n",
    "# version of the gradient that uses nested loops.\n",
    "loss, grad = softmax_loss_naive(W, X_dev, y_dev, 0.0)\n",
    "\n",
    "# Use numeric gradient checking as a debugging tool.\n",
    "# The numeric gradient should be close to the analytic gradient.\n",
    "from gradient_check import grad_check_sparse\n",
    "f = lambda w: softmax_loss_naive(w, X_dev, y_dev, 0.0)[0]\n",
    "grad_numerical = grad_check_sparse(f, W, grad, 10)\n",
    "\n",
    "# gradient check with regularization\n",
    "loss, grad = softmax_loss_naive(W, X_dev, y_dev, 1e2)\n",
    "f = lambda w: softmax_loss_naive(w, X_dev, y_dev, 1e2)[0]\n",
    "grad_numerical = grad_check_sparse(f, W, grad, 10)"
   ]
  },
  {
   "cell_type": "code",
   "execution_count": 57,
   "metadata": {
    "ExecuteTime": {
     "end_time": "2020-02-24T14:45:49.443708Z",
     "start_time": "2020-02-24T14:45:49.295950Z"
    }
   },
   "outputs": [
    {
     "name": "stdout",
     "output_type": "stream",
     "text": [
      "naive loss: 2.353177e+00 computed in 0.125664s\n",
      "vectorized loss: 2.353177e+00 computed in 0.002068s\n",
      "Loss difference: 0.000000\n",
      "Gradient difference: 0.000000\n"
     ]
    }
   ],
   "source": [
    "# Now that we have a naive implementation of the softmax loss function and its gradient,\n",
    "# implement a vectorized version in softmax_loss_vectorized.\n",
    "# The two versions should compute the same results, but the vectorized version should be\n",
    "# much faster.\n",
    "tic = time.time()\n",
    "loss_naive, grad_naive = softmax_loss_naive(W, X_dev, y_dev, 0.00001)\n",
    "toc = time.time()\n",
    "print('naive loss: %e computed in %fs' % (loss_naive, toc - tic))\n",
    "\n",
    "from classifiers.softmax import softmax_loss_vectorized\n",
    "tic = time.time()\n",
    "loss_vectorized, grad_vectorized = softmax_loss_vectorized(W, X_dev, y_dev, 0.00001)\n",
    "toc = time.time()\n",
    "print('vectorized loss: %e computed in %fs' % (loss_vectorized, toc - tic))\n",
    "\n",
    "# We use the Frobenius norm to compare the two versions\n",
    "# of the gradient.\n",
    "grad_difference = np.linalg.norm(grad_naive - grad_vectorized, ord='fro')\n",
    "print('Loss difference: %f' % np.abs(loss_naive - loss_vectorized))\n",
    "print('Gradient difference: %f' % grad_difference)"
   ]
  },
  {
   "cell_type": "code",
   "execution_count": 60,
   "metadata": {
    "ExecuteTime": {
     "end_time": "2020-02-24T14:47:43.423025Z",
     "start_time": "2020-02-24T14:47:41.611281Z"
    }
   },
   "outputs": [
    {
     "name": "stdout",
     "output_type": "stream",
     "text": [
      "iteration 0 / 1500: loss 766.183729\n",
      "iteration 100 / 1500: loss 281.379492\n",
      "iteration 200 / 1500: loss 104.185838\n",
      "iteration 300 / 1500: loss 39.435555\n",
      "iteration 400 / 1500: loss 15.850923\n",
      "iteration 500 / 1500: loss 7.089014\n",
      "iteration 600 / 1500: loss 3.910319\n",
      "iteration 700 / 1500: loss 2.765485\n",
      "iteration 800 / 1500: loss 2.299558\n",
      "iteration 900 / 1500: loss 2.116403\n",
      "iteration 1000 / 1500: loss 2.195417\n",
      "iteration 1100 / 1500: loss 2.082352\n",
      "iteration 1200 / 1500: loss 2.088405\n",
      "iteration 1300 / 1500: loss 2.073512\n",
      "iteration 1400 / 1500: loss 2.086045\n",
      "That took 1.767303s\n"
     ]
    }
   ],
   "source": [
    "from classifiers.linear_classifier import *\n",
    "\n",
    "classifier = Softmax()\n",
    "tic = time.time()\n",
    "loss_hist = classifier.train(X_train, y_train, learning_rate=1e-7, reg=5e4,\n",
    "                                  num_iters=1500, verbose=True)\n",
    "toc = time.time()\n",
    "print('That took %fs' % (toc - tic))"
   ]
  },
  {
   "cell_type": "code",
   "execution_count": 63,
   "metadata": {
    "ExecuteTime": {
     "end_time": "2020-02-24T14:49:46.834087Z",
     "start_time": "2020-02-24T14:49:46.706901Z"
    }
   },
   "outputs": [
    {
     "name": "stdout",
     "output_type": "stream",
     "text": [
      "training accuracy: 0.322510\n",
      "validation accuracy: 0.335000\n"
     ]
    }
   ],
   "source": [
    "# Write the Softmax.predict function and evaluate the performance on both the\n",
    "# training and validation set\n",
    "y_train_pred = classifier.predict(X_train)\n",
    "print('training accuracy: %f' % (np.mean(y_train == y_train_pred), ))\n",
    "y_val_pred = classifier.predict(X_val)\n",
    "print('validation accuracy: %f' % (np.mean(y_val == y_val_pred), ))"
   ]
  },
  {
   "cell_type": "code",
   "execution_count": 65,
   "metadata": {
    "ExecuteTime": {
     "end_time": "2020-02-24T14:50:09.411984Z",
     "start_time": "2020-02-24T14:50:09.303564Z"
    }
   },
   "outputs": [
    {
     "data": {
      "image/png": "[encoded data removed]",
      "text/plain": [
       "<Figure size 432x288 with 1 Axes>"
      ]
     },
     "metadata": {
      "needs_background": "light"
     },
     "output_type": "display_data"
    }
   ],
   "source": [
    "# A useful debugging strategy is to plot the loss as a function of\n",
    "# iteration number:\n",
    "plt.plot(loss_hist)\n",
    "plt.xlabel('Iteration number')\n",
    "plt.ylabel('Loss value')\n",
    "plt.show()"
   ]
  },
  {
   "cell_type": "code",
   "execution_count": 66,
   "metadata": {
    "ExecuteTime": {
     "end_time": "2020-02-24T14:50:11.248142Z",
     "start_time": "2020-02-24T14:50:11.228940Z"
    }
   },
   "outputs": [
    {
     "name": "stdout",
     "output_type": "stream",
     "text": [
      "softmax on raw pixels final test set accuracy: 34.10\n"
     ]
    }
   ],
   "source": [
    "# evaluate on test set\n",
    "# Evaluate the best softmax on test set\n",
    "y_test_pred = classifier.predict(X_test)\n",
    "test_accuracy = np.mean(y_test == y_test_pred)\n",
    "print('softmax on raw pixels final test set accuracy: %.2f' % (100*test_accuracy, ))"
   ]
  }
 ],
 "metadata": {
  "anaconda-cloud": {},
  "kernelspec": {
   "display_name": "Python 3",
   "language": "python",
   "name": "python3"
  },
  "language_info": {
   "codemirror_mode": {
    "name": "ipython",
    "version": 3
   },
   "file_extension": ".py",
   "mimetype": "text/x-python",
   "name": "python",
   "nbconvert_exporter": "python",
   "pygments_lexer": "ipython3",
   "version": "3.7.6"
  }
 },
 "nbformat": 4,
 "nbformat_minor": 1
}
