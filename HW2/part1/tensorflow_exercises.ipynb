{
 "cells": [
  {
   "cell_type": "markdown",
   "metadata": {
    "colab_type": "text",
    "id": "ljDlRLAHz4Zy",
    "tags": [
     "pdf-title"
    ]
   },
   "source": [
    "# What's this TensorFlow business?\n",
    "\n",
    "You've written a lot of code in this assignment to provide a whole host of neural network functionality. Dropout, Batch Norm, and 2D convolutions are some of the workhorses of deep learning in computer vision. You've also worked hard to make your code efficient and vectorized.\n",
    "\n",
    "For the last part of this assignment, though, we're going to leave behind your beautiful codebase and instead migrate to one of two popular deep learning frameworks: in this instance, TensorFlow (or PyTorch, if you choose to work with that notebook)."
   ]
  },
  {
   "cell_type": "markdown",
   "metadata": {
    "colab_type": "text",
    "id": "Cfteqa7Yz4Zz",
    "tags": [
     "pdf-ignore"
    ]
   },
   "source": [
    "#### What is it?\n",
    "TensorFlow is a system for executing computational graphs over Tensor objects, with native support for performing backpropogation for its Variables. In it, we work with Tensors which are n-dimensional arrays analogous to the numpy ndarray.\n",
    "\n",
    "#### Why?\n",
    "\n",
    "* Our code will now run on GPUs! Much faster training. Writing your own modules to run on GPUs is beyond the scope of this class, unfortunately.\n",
    "* We want you to be ready to use one of these frameworks for your project so you can experiment more efficiently than if you were writing every feature you want to use by hand. \n",
    "* We want you to stand on the shoulders of giants! TensorFlow and PyTorch are both excellent frameworks that will make your lives a lot easier, and now that you understand their guts, you are free to use them :) \n",
    "* We want you to be exposed to the sort of deep learning code you might run into in academia or industry. "
   ]
  },
  {
   "cell_type": "markdown",
   "metadata": {
    "colab_type": "text",
    "id": "H9YyfDKkz4Z0"
   },
   "source": [
    "**Acknowledgement: This exercise is adapted from [Stanford CS231n](http://cs231n.stanford.edu/index.html).**"
   ]
  },
  {
   "cell_type": "markdown",
   "metadata": {
    "colab_type": "text",
    "id": "dWGZqt9Gz4Z1",
    "tags": [
     "pdf-ignore"
    ]
   },
   "source": [
    "## How will I learn TensorFlow?\n",
    "\n",
    "TensorFlow has many excellent tutorials available, including those from [Google themselves](https://www.tensorflow.org/get_started/get_started).\n",
    "\n",
    "Otherwise, this notebook will walk you through much of what you need to do to train models in TensorFlow. See the end of the notebook for some links to helpful tutorials if you want to learn more or need further clarification on topics that aren't fully explained here.\n",
    "\n",
    "**NOTE: This notebook is meant to teach you the latest version of Tensorflow 2.0. Most examples on the web today are still in 1.x, so be careful not to confuse the two when looking up documentation**.\n",
    "\n",
    "## Install Tensorflow 2.0\n",
    "Tensorflow 2.0 is still not in a fully 100% stable release, but it's still usable and more intuitive than TF 1.x. Please make sure you have it installed before moving on in this notebook! Here are some steps to get started:\n",
    "\n",
    "1. Have the latest version of Anaconda installed on your machine.\n",
    "2. Create a new conda environment starting from Python 3.7. In this setup example, we'll call it `tf_20_env`.\n",
    "3. Run the command: `source activate tf_20_env`\n",
    "4. Then pip install TF 2.0 as described here: https://www.tensorflow.org/install/pip \n",
    "\n",
    "A guide on creating Anaconda enviornments: https://uoa-eresearch.github.io/eresearch-cookbook/recipe/2014/11/20/conda/\n",
    "\n",
    "This will give you an new enviornemnt to play in TF 2.0. Generally, if you plan to also use TensorFlow in your other projects, you might also want to keep a seperate Conda environment or virtualenv in Python 3.7 that has Tensorflow 1.9, so you can switch back and forth at will. "
   ]
  },
  {
   "cell_type": "markdown",
   "metadata": {
    "colab_type": "text",
    "id": "OX1KwUgHz4Z2"
   },
   "source": [
    "**Acknowledgement: This exercise is adapted from [Stanford CS231n](http://cs231n.stanford.edu/index.html).**"
   ]
  },
  {
   "cell_type": "markdown",
   "metadata": {
    "colab_type": "text",
    "id": "Ja511SS1z4Z3"
   },
   "source": [
    "## How will I learn TensorFlow?\n",
    "\n",
    "TensorFlow has many excellent tutorials available, including those from [Google themselves](https://www.tensorflow.org/get_started/get_started).\n",
    "\n",
    "Otherwise, this notebook will walk you through much of what you need to do to train models in TensorFlow. See the end of the notebook for some links to helpful tutorials if you want to learn more or need further clarification on topics that aren't fully explained here.\n",
    "\n",
    "# Part I: Preparation"
   ]
  },
  {
   "cell_type": "code",
   "execution_count": 2,
   "metadata": {
    "colab": {
     "base_uri": "https://localhost:8080/",
     "height": 339
    },
    "colab_type": "code",
    "id": "PAbwWRu5z4Z3",
    "outputId": "1bfab098-009d-4d62-e14c-56c39b076885",
    "tags": [
     "pdf-ignore"
    ]
   },
   "outputs": [
    {
     "name": "stdout",
     "output_type": "stream",
     "text": [
      "tf version: 2.2.0-rc1\n",
      "GPU Information: \n",
      "Mon Mar 30 11:23:20 2020       \n",
      "+-----------------------------------------------------------------------------+\n",
      "| NVIDIA-SMI 440.64.00    Driver Version: 418.67       CUDA Version: 10.1     |\n",
      "|-------------------------------+----------------------+----------------------+\n",
      "| GPU  Name        Persistence-M| Bus-Id        Disp.A | Volatile Uncorr. ECC |\n",
      "| Fan  Temp  Perf  Pwr:Usage/Cap|         Memory-Usage | GPU-Util  Compute M. |\n",
      "|===============================+======================+======================|\n",
      "|   0  Tesla K80           Off  | 00000000:00:04.0 Off |                    0 |\n",
      "| N/A   69C    P8    33W / 149W |      0MiB / 11441MiB |      0%      Default |\n",
      "+-------------------------------+----------------------+----------------------+\n",
      "                                                                               \n",
      "+-----------------------------------------------------------------------------+\n",
      "| Processes:                                                       GPU Memory |\n",
      "|  GPU       PID   Type   Process name                             Usage      |\n",
      "|=============================================================================|\n",
      "|  No running processes found                                                 |\n",
      "+-----------------------------------------------------------------------------+\n"
     ]
    }
   ],
   "source": [
    "import os\n",
    "import tensorflow as tf\n",
    "import numpy as np\n",
    "import math\n",
    "import timeit\n",
    "import matplotlib.pyplot as plt\n",
    "\n",
    "%matplotlib inline\n",
    "print(\"tf version: \" + tf.__version__)\n",
    "\n",
    "print(\"GPU Information: \")\n",
    "!nvidia-smi"
   ]
  },
  {
   "cell_type": "code",
   "execution_count": 27,
   "metadata": {
    "colab": {
     "base_uri": "https://localhost:8080/",
     "height": 118
    },
    "colab_type": "code",
    "id": "DLh7Cb_zz4Z8",
    "outputId": "e4181be4-f113-4a6a-be1e-7b2bddb2fd5f",
    "tags": [
     "pdf-ignore"
    ]
   },
   "outputs": [
    {
     "name": "stdout",
     "output_type": "stream",
     "text": [
      "Train data shape:  (49000, 32, 32, 3)\n",
      "Train labels shape:  (49000,) int32\n",
      "Validation data shape:  (1000, 32, 32, 3)\n",
      "Validation labels shape:  (1000,)\n",
      "Test data shape:  (10000, 32, 32, 3)\n",
      "Test labels shape:  (10000,)\n"
     ]
    }
   ],
   "source": [
    "def load_cifar10(num_training=49000, num_validation=1000, num_test=10000):\n",
    "    \"\"\"\n",
    "    Fetch the CIFAR-10 dataset from the web and perform preprocessing to prepare\n",
    "    it for the two-layer neural net classifier. These are the same steps as\n",
    "    we used for the SVM, but condensed to a single function.\n",
    "    \"\"\"\n",
    "    # Load the raw CIFAR-10 dataset and use appropriate data types and shapes\n",
    "    cifar10 = tf.keras.datasets.cifar10.load_data()\n",
    "    (X_train, y_train), (X_test, y_test) = cifar10\n",
    "    X_train = np.asarray(X_train, dtype=np.float32)\n",
    "    y_train = np.asarray(y_train, dtype=np.int32).flatten()\n",
    "    X_test = np.asarray(X_test, dtype=np.float32)\n",
    "    y_test = np.asarray(y_test, dtype=np.int32).flatten()\n",
    "\n",
    "    # Subsample the data\n",
    "    mask = range(num_training, num_training + num_validation)\n",
    "    X_val = X_train[mask]\n",
    "    y_val = y_train[mask]\n",
    "    mask = range(num_training)\n",
    "    X_train = X_train[mask]\n",
    "    y_train = y_train[mask]\n",
    "    mask = range(num_test)\n",
    "    X_test = X_test[mask]\n",
    "    y_test = y_test[mask]\n",
    "\n",
    "    # Normalize the data: subtract the mean pixel and divide by std\n",
    "    mean_pixel = X_train.mean(axis=(0, 1, 2), keepdims=True)\n",
    "    std_pixel = X_train.std(axis=(0, 1, 2), keepdims=True)\n",
    "    X_train = (X_train - mean_pixel) / std_pixel\n",
    "    X_val = (X_val - mean_pixel) / std_pixel\n",
    "    X_test = (X_test - mean_pixel) / std_pixel\n",
    "\n",
    "    return X_train, y_train, X_val, y_val, X_test, y_test\n",
    "\n",
    "# If there are errors with SSL downloading involving self-signed certificates,\n",
    "# it may be that your Python version was recently installed on the current machine.\n",
    "# See: https://github.com/tensorflow/tensorflow/issues/10779\n",
    "# To fix, run the command: /Applications/Python\\ 3.7/Install\\ Certificates.command\n",
    "#   ...replacing paths as necessary.\n",
    "\n",
    "# Invoke the above function to get our data.\n",
    "NHW = (0, 1, 2)\n",
    "X_train, y_train, X_val, y_val, X_test, y_test = load_cifar10()\n",
    "print('Train data shape: ', X_train.shape)\n",
    "print('Train labels shape: ', y_train.shape, y_train.dtype)\n",
    "print('Validation data shape: ', X_val.shape)\n",
    "print('Validation labels shape: ', y_val.shape)\n",
    "print('Test data shape: ', X_test.shape)\n",
    "print('Test labels shape: ', y_test.shape)"
   ]
  },
  {
   "cell_type": "code",
   "execution_count": 0,
   "metadata": {
    "colab": {},
    "colab_type": "code",
    "id": "e5wYTpTRz4aA",
    "tags": [
     "pdf-ignore"
    ]
   },
   "outputs": [],
   "source": [
    "class Dataset(object):\n",
    "    def __init__(self, X, y, batch_size, shuffle=False):\n",
    "        \"\"\"\n",
    "        Construct a Dataset object to iterate over data X and labels y\n",
    "        \n",
    "        Inputs:\n",
    "        - X: Numpy array of data, of any shape\n",
    "        - y: Numpy array of labels, of any shape but with y.shape[0] == X.shape[0]\n",
    "        - batch_size: Integer giving number of elements per minibatch\n",
    "        - shuffle: (optional) Boolean, whether to shuffle the data on each epoch\n",
    "        \"\"\"\n",
    "        assert X.shape[0] == y.shape[0], 'Got different numbers of data and labels'\n",
    "        self.X, self.y = X, y\n",
    "        self.batch_size, self.shuffle = batch_size, shuffle\n",
    "\n",
    "    def __iter__(self):\n",
    "        N, B = self.X.shape[0], self.batch_size\n",
    "        idxs = np.arange(N)\n",
    "        if self.shuffle:\n",
    "            np.random.shuffle(idxs)\n",
    "        return iter((self.X[i:i+B], self.y[i:i+B]) for i in range(0, N, B))\n",
    "\n",
    "\n",
    "train_dset = Dataset(X_train, y_train, batch_size=64, shuffle=True)\n",
    "val_dset = Dataset(X_val, y_val, batch_size=64, shuffle=False)\n",
    "test_dset = Dataset(X_test, y_test, batch_size=64)"
   ]
  },
  {
   "cell_type": "code",
   "execution_count": 32,
   "metadata": {
    "colab": {
     "base_uri": "https://localhost:8080/",
     "height": 135
    },
    "colab_type": "code",
    "id": "emYTPwCZz4aD",
    "outputId": "38503dba-6830-4835-c176-10323844a1e1"
   },
   "outputs": [
    {
     "name": "stdout",
     "output_type": "stream",
     "text": [
      "0 (64, 32, 32, 3) (64,)\n",
      "1 (64, 32, 32, 3) (64,)\n",
      "2 (64, 32, 32, 3) (64,)\n",
      "3 (64, 32, 32, 3) (64,)\n",
      "4 (64, 32, 32, 3) (64,)\n",
      "5 (64, 32, 32, 3) (64,)\n",
      "6 (64, 32, 32, 3) (64,)\n"
     ]
    }
   ],
   "source": [
    "# We can iterate through a dataset like this:\n",
    "for t, (x, y) in enumerate(train_dset):\n",
    "    print(t, x.shape, y.shape)\n",
    "    if t > 5: break"
   ]
  },
  {
   "cell_type": "markdown",
   "metadata": {
    "colab_type": "text",
    "id": "RiGdoalgz4aG"
   },
   "source": [
    "You can optionally **use GPU by setting the flag to True below**. It's not neccessary to use a GPU for this assignment; if you are working on Google Cloud then we recommend that you do not use a GPU, as it will be significantly more expensive."
   ]
  },
  {
   "cell_type": "code",
   "execution_count": 33,
   "metadata": {
    "colab": {
     "base_uri": "https://localhost:8080/",
     "height": 33
    },
    "colab_type": "code",
    "id": "DlA5lIJAz4aH",
    "outputId": "5e9f589a-ad1b-4286-d9c0-72f613f5cc8c",
    "tags": [
     "pdf-ignore-input"
    ]
   },
   "outputs": [
    {
     "name": "stdout",
     "output_type": "stream",
     "text": [
      "Using device:  /device:GPU:0\n"
     ]
    }
   ],
   "source": [
    "# Set up some global variables\n",
    "USE_GPU = True\n",
    "\n",
    "if USE_GPU:\n",
    "    device = '/device:GPU:0'\n",
    "else:\n",
    "    device = '/cpu:0'\n",
    "\n",
    "# Constant to control how often we print when training models\n",
    "print_every = 100\n",
    "\n",
    "print('Using device: ', device)"
   ]
  },
  {
   "cell_type": "markdown",
   "metadata": {
    "colab_type": "text",
    "id": "f4K6Jq_0z4aL",
    "tags": [
     "pdf-ignore"
    ]
   },
   "source": [
    "# Part II: Barebones TensorFlow\n",
    "TensorFlow ships with various high-level APIs which make it very convenient to define and train neural networks; we will cover some of these constructs in Part III and Part IV of this notebook. In this section we will start by building a model with basic TensorFlow constructs to help you better understand what's going on under the hood of the higher-level APIs.\n",
    "\n",
    "**\"Barebones Tensorflow\" is important to understanding the building blocks of TensorFlow, but much of it involves concepts from TensorFlow 1.x.** We will be working with legacy modules such as `tf.Variable`.\n",
    "\n",
    "Therefore, please read and understand the differences between legacy (1.x) TF and the new (2.0) TF.\n",
    "\n",
    "### Historical background on TensorFlow 1.x\n",
    "\n",
    "TensorFlow 1.x is primarily a framework for working with **static computational graphs**. Nodes in the computational graph are Tensors which will hold n-dimensional arrays when the graph is run; edges in the graph represent functions that will operate on Tensors when the graph is run to actually perform useful computation.\n",
    "\n",
    "Before Tensorflow 2.0, we had to configure the graph into two phases. There are plenty of tutorials online that explain this two-step process. The process generally looks like the following for TF 1.x:\n",
    "1. **Build a computational graph that describes the computation that you want to perform**. This stage doesn't actually perform any computation; it just builds up a symbolic representation of your computation. This stage will typically define one or more `placeholder` objects that represent inputs to the computational graph.\n",
    "2. **Run the computational graph many times.** Each time the graph is run (e.g. for one gradient descent step) you will specify which parts of the graph you want to compute, and pass a `feed_dict` dictionary that will give concrete values to any `placeholder`s in the graph.\n",
    "\n",
    "### The new paradigm in Tensorflow 2.0\n",
    "Now, with Tensorflow 2.0, we can simply adopt a functional form that is more Pythonic and similar in spirit to PyTorch and direct Numpy operation. Instead of the 2-step paradigm with computation graphs, making it (among other things) easier to debug TF code. You can read more details at https://www.tensorflow.org/guide/eager.\n",
    "\n",
    "The main difference between the TF 1.x and 2.0 approach is that the 2.0 approach doesn't make use of `tf.Session`, `tf.run`, `placeholder`, `feed_dict`. To get more details of what's different between the two version and how to convert between the two, check out the official migration guide: https://www.tensorflow.org/alpha/guide/migration_guide\n",
    "\n",
    "Later, in the rest of this notebook we'll focus on this new, simpler approach."
   ]
  },
  {
   "cell_type": "markdown",
   "metadata": {
    "colab_type": "text",
    "id": "qcIvtyaEz4aM",
    "tags": [
     "pdf-ignore"
    ]
   },
   "source": [
    "### TensorFlow warmup: Flatten Function\n",
    "\n",
    "We can see this in action by defining a simple `flatten` function that will reshape image data for use in a fully-connected network.\n",
    "\n",
    "In TensorFlow, data for convolutional feature maps is typically stored in a Tensor of shape N x H x W x C where:\n",
    "\n",
    "- N is the number of datapoints (minibatch size)\n",
    "- H is the height of the feature map\n",
    "- W is the width of the feature map\n",
    "- C is the number of channels in the feature map\n",
    "\n",
    "This is the right way to represent the data when we are doing something like a 2D convolution, that needs spatial understanding of where the intermediate features are relative to each other. When we use fully connected affine layers to process the image, however, we want each datapoint to be represented by a single vector -- it's no longer useful to segregate the different channels, rows, and columns of the data. So, we use a \"flatten\" operation to collapse the `H x W x C` values per representation into a single long vector. \n",
    "\n",
    "Notice the `tf.reshape` call has the target shape as `(N, -1)`, meaning it will reshape/keep the first dimension to be N, and then infer as necessary what the second dimension is in the output, so we can collapse the remaining dimensions from the input properly.\n",
    "\n",
    "**NOTE**: TensorFlow and PyTorch differ on the default Tensor layout; TensorFlow uses N x H x W x C but PyTorch uses N x C x H x W."
   ]
  },
  {
   "cell_type": "code",
   "execution_count": 0,
   "metadata": {
    "colab": {},
    "colab_type": "code",
    "id": "wP0HYZ4Cz4aM",
    "tags": [
     "pdf-ignore"
    ]
   },
   "outputs": [],
   "source": [
    "def flatten(x):\n",
    "    \"\"\"    \n",
    "    Input:\n",
    "    - TensorFlow Tensor of shape (N, D1, ..., DM)\n",
    "    \n",
    "    Output:\n",
    "    - TensorFlow Tensor of shape (N, D1 * ... * DM)\n",
    "    \"\"\"\n",
    "    N = tf.shape(x)[0]\n",
    "    return tf.reshape(x, (N, -1))"
   ]
  },
  {
   "cell_type": "code",
   "execution_count": 35,
   "metadata": {
    "colab": {
     "base_uri": "https://localhost:8080/",
     "height": 254
    },
    "colab_type": "code",
    "id": "zYfEgWfuz4aQ",
    "outputId": "55c6d313-b566-420b-9f21-0bcc7c1b9619",
    "tags": [
     "pdf-ignore-input"
    ]
   },
   "outputs": [
    {
     "name": "stdout",
     "output_type": "stream",
     "text": [
      "x_np:\n",
      " [[[ 0  1  2  3]\n",
      "  [ 4  5  6  7]\n",
      "  [ 8  9 10 11]]\n",
      "\n",
      " [[12 13 14 15]\n",
      "  [16 17 18 19]\n",
      "  [20 21 22 23]]] \n",
      "\n",
      "x_flat_np:\n",
      " tf.Tensor(\n",
      "[[ 0  1  2  3  4  5  6  7  8  9 10 11]\n",
      " [12 13 14 15 16 17 18 19 20 21 22 23]], shape=(2, 12), dtype=int64) \n",
      "\n"
     ]
    }
   ],
   "source": [
    "def test_flatten():\n",
    "    # Construct concrete values of the input data x using numpy\n",
    "    x_np = np.arange(24).reshape((2, 3, 4))\n",
    "    print('x_np:\\n', x_np, '\\n')\n",
    "    # Compute a concrete output value.\n",
    "    x_flat_np = flatten(x_np)\n",
    "    print('x_flat_np:\\n', x_flat_np, '\\n')\n",
    "\n",
    "test_flatten()"
   ]
  },
  {
   "cell_type": "markdown",
   "metadata": {
    "colab_type": "text",
    "id": "IHm5rupAz4aT"
   },
   "source": [
    "### Barebones TensorFlow: Define a Two-Layer Network\n",
    "We will now implement our first neural network with TensorFlow: a fully-connected ReLU network with two hidden layers and no biases on the CIFAR10 dataset. For now we will use only low-level TensorFlow operators to define the network; later we will see how to use the higher-level abstractions provided by `tf.keras` to simplify the process.\n",
    "\n",
    "We will define the forward pass of the network in the function `two_layer_fc`; this will accept TensorFlow Tensors for the inputs and weights of the network, and return a TensorFlow Tensor for the scores. \n",
    "\n",
    "After defining the network architecture in the `two_layer_fc` function, we will test the implementation by checking the shape of the output.\n",
    "\n",
    "**It's important that you read and understand this implementation.**"
   ]
  },
  {
   "cell_type": "code",
   "execution_count": 0,
   "metadata": {
    "colab": {},
    "colab_type": "code",
    "id": "bdtYuqatz4aU",
    "tags": [
     "pdf-ignore"
    ]
   },
   "outputs": [],
   "source": [
    "def two_layer_fc(x, params):\n",
    "    \"\"\"\n",
    "    A fully-connected neural network; the architecture is:\n",
    "    fully-connected layer -> ReLU -> fully connected layer.\n",
    "    Note that we only need to define the forward pass here; TensorFlow will take\n",
    "    care of computing the gradients for us.\n",
    "    \n",
    "    The input to the network will be a minibatch of data, of shape\n",
    "    (N, d1, ..., dM) where d1 * ... * dM = D. The hidden layer will have H units,\n",
    "    and the output layer will produce scores for C classes.\n",
    "\n",
    "    Inputs:\n",
    "    - x: A TensorFlow Tensor of shape (N, d1, ..., dM) giving a minibatch of\n",
    "      input data.\n",
    "    - params: A list [w1, w2] of TensorFlow Tensors giving weights for the\n",
    "      network, where w1 has shape (D, H) and w2 has shape (H, C).\n",
    "    \n",
    "    Returns:\n",
    "    - scores: A TensorFlow Tensor of shape (N, C) giving classification scores\n",
    "      for the input data x.\n",
    "    \"\"\"\n",
    "    w1, w2 = params                   # Unpack the parameters\n",
    "    x = flatten(x)                    # Flatten the input; now x has shape (N, D)\n",
    "    h = tf.nn.relu(tf.matmul(x, w1))  # Hidden layer: h has shape (N, H) > N x D x D x H = N x H\n",
    "    scores = tf.matmul(h, w2)         # Compute scores of shape (N, C) > N x H x H x C = N x C\n",
    "    return scores"
   ]
  },
  {
   "cell_type": "code",
   "execution_count": 37,
   "metadata": {
    "colab": {
     "base_uri": "https://localhost:8080/",
     "height": 33
    },
    "colab_type": "code",
    "id": "S1QY98cSz4aZ",
    "outputId": "a4d52bec-4906-4726-c9ae-dd21c3c5b3e7",
    "tags": [
     "pdf-ignore-input"
    ]
   },
   "outputs": [
    {
     "name": "stdout",
     "output_type": "stream",
     "text": [
      "(64, 10)\n"
     ]
    }
   ],
   "source": [
    "def two_layer_fc_test():\n",
    "    hidden_layer_size = 42\n",
    "\n",
    "    # Scoping our TF operations under a tf.device context manager \n",
    "    # lets us tell TensorFlow where we want these Tensors to be\n",
    "    # multiplied and/or operated on, e.g. on a CPU or a GPU.\n",
    "    with tf.device(device):        \n",
    "        x = tf.zeros((64, 32, 32, 3))                       # N x D\n",
    "        w1 = tf.zeros((32 * 32 * 3, hidden_layer_size))     # D x H\n",
    "        w2 = tf.zeros((hidden_layer_size, 10))              # H x C\n",
    "\n",
    "        # Call our two_layer_fc function for the forward pass of the network.\n",
    "        scores = two_layer_fc(x, [w1, w2])\n",
    "\n",
    "    print(scores.shape)\n",
    "\n",
    "two_layer_fc_test()"
   ]
  },
  {
   "cell_type": "markdown",
   "metadata": {
    "colab_type": "text",
    "id": "hWF4i9fgz4ad"
   },
   "source": [
    "### Barebones TensorFlow: Three-Layer ConvNet\n",
    "Here you will complete the implementation of the function `three_layer_convnet` which will perform the forward pass of a three-layer convolutional network. The network should have the following architecture:\n",
    "\n",
    "1. A convolutional layer (with bias) with `channel_1` filters, each with shape `KW1 x KH1`, and zero-padding of two\n",
    "2. ReLU nonlinearity\n",
    "3. A convolutional layer (with bias) with `channel_2` filters, each with shape `KW2 x KH2`, and zero-padding of one\n",
    "4. ReLU nonlinearity\n",
    "5. Fully-connected layer with bias, producing scores for `C` classes.\n",
    "\n",
    "**HINT**: For convolutions: https://www.tensorflow.org/versions/r2.0/api_docs/python/tf/nn/conv2d; be careful with padding!\n",
    "\n",
    "**HINT**: For biases: https://www.tensorflow.org/performance/xla/broadcasting"
   ]
  },
  {
   "cell_type": "code",
   "execution_count": 0,
   "metadata": {
    "colab": {},
    "colab_type": "code",
    "id": "4LcpPtwfz4ae"
   },
   "outputs": [],
   "source": [
    "def three_layer_convnet(x, params):\n",
    "    \"\"\"\n",
    "    A three-layer convolutional network with the architecture described above.\n",
    "    \n",
    "    Inputs:\n",
    "    - x: A TensorFlow Tensor of shape (N, H, W, 3) giving a minibatch of images\n",
    "    - params: A list of TensorFlow Tensors giving the weights and biases for the\n",
    "      network; should contain the following:\n",
    "      - conv_w1: TensorFlow Tensor of shape (KH1, KW1, 3, channel_1) giving\n",
    "        weights for the first convolutional layer.\n",
    "      - conv_b1: TensorFlow Tensor of shape (channel_1,) giving biases for the\n",
    "        first convolutional layer.\n",
    "      - conv_w2: TensorFlow Tensor of shape (KH2, KW2, channel_1, channel_2)\n",
    "        giving weights for the second convolutional layer\n",
    "      - conv_b2: TensorFlow Tensor of shape (channel_2,) giving biases for the\n",
    "        second convolutional layer.\n",
    "      - fc_w: TensorFlow Tensor giving weights for the fully-connected layer.\n",
    "        Can you figure out what the shape should be?\n",
    "      - fc_b: TensorFlow Tensor giving biases for the fully-connected layer.\n",
    "        Can you figure out what the shape should be?\n",
    "    \"\"\"\n",
    "    conv_w1, conv_b1, conv_w2, conv_b2, fc_w, fc_b = params\n",
    "    scores = None\n",
    "    ############################################################################\n",
    "    # TODO: Implement the forward pass for the three-layer ConvNet.            #\n",
    "    ############################################################################\n",
    "    # *****START OF YOUR CODE (DO NOT DELETE/MODIFY THIS LINE)*****\n",
    "\n",
    "    conv_1 = tf.math.add(tf.nn.conv2d(input=x, filters=conv_w1, strides=1, padding=\"SAME\", data_format='NHWC'), conv_b1)\n",
    "    relu_1 = tf.nn.relu(conv_1)\n",
    "    conv_2 = tf.math.add(tf.nn.conv2d(input=relu_1, filters=conv_w2, strides=1, padding=\"SAME\", data_format='NHWC'), conv_b2)\n",
    "    relu_2 = tf.nn.relu(conv_2)\n",
    "    scores = tf.math.add(tf.matmul(flatten(relu_2), fc_w), fc_b)\n",
    "    pass\n",
    "\n",
    "    # *****END OF YOUR CODE (DO NOT DELETE/MODIFY THIS LINE)*****\n",
    "    ############################################################################\n",
    "    #                              END OF YOUR CODE                            #\n",
    "    ############################################################################\n",
    "    return scores"
   ]
  },
  {
   "cell_type": "markdown",
   "metadata": {
    "colab_type": "text",
    "id": "E4WIIJqmz4ah"
   },
   "source": [
    "After defing the forward pass of the three-layer ConvNet above, run the following cell to test your implementation. Like the two-layer network, we run the graph on a batch of zeros just to make sure the function doesn't crash, and produces outputs of the correct shape.\n",
    "\n",
    "When you run this function, `scores_np` should have shape `(64, 10)`."
   ]
  },
  {
   "cell_type": "code",
   "execution_count": 40,
   "metadata": {
    "colab": {
     "base_uri": "https://localhost:8080/",
     "height": 33
    },
    "colab_type": "code",
    "id": "46vj4fZrz4ai",
    "jupyter": {
     "outputs_hidden": true
    },
    "outputId": "7f411f2e-83dd-42f3-e24c-a11538be0cf5",
    "tags": [
     "pdf-ignore-input"
    ]
   },
   "outputs": [
    {
     "name": "stdout",
     "output_type": "stream",
     "text": [
      "scores_np has shape:  (64, 10)\n"
     ]
    }
   ],
   "source": [
    "def three_layer_convnet_test():\n",
    "    \n",
    "    with tf.device(device):\n",
    "        x = tf.zeros((64, 32, 32, 3))\n",
    "        conv_w1 = tf.zeros((5, 5, 3, 6))\n",
    "        conv_b1 = tf.zeros((6,))\n",
    "        conv_w2 = tf.zeros((3, 3, 6, 9))\n",
    "        conv_b2 = tf.zeros((9,))\n",
    "        fc_w = tf.zeros((32 * 32 * 9, 10))\n",
    "        fc_b = tf.zeros((10,))\n",
    "        params = [conv_w1, conv_b1, conv_w2, conv_b2, fc_w, fc_b]\n",
    "        scores = three_layer_convnet(x, params)\n",
    "\n",
    "    # Inputs to convolutional layers are 4-dimensional arrays with shape\n",
    "    # [batch_size, height, width, channels]\n",
    "    print('scores_np has shape: ', scores.shape)\n",
    "\n",
    "three_layer_convnet_test()"
   ]
  },
  {
   "cell_type": "markdown",
   "metadata": {
    "colab_type": "text",
    "id": "Fm99PbJ9z4al"
   },
   "source": [
    "### Barebones TensorFlow: Training Step\n",
    "\n",
    "We now define the `training_step` function performs a single training step. This will take three basic steps:\n",
    "\n",
    "1. Compute the loss\n",
    "2. Compute the gradient of the loss with respect to all network weights\n",
    "3. Make a weight update step using (stochastic) gradient descent.\n",
    "\n",
    "\n",
    "We need to use a few new TensorFlow functions to do all of this:\n",
    "- For computing the cross-entropy loss we'll use `tf.nn.sparse_softmax_cross_entropy_with_logits`: https://www.tensorflow.org/versions/r2.0/api_docs/python/tf/nn/sparse_softmax_cross_entropy_with_logits\n",
    "\n",
    "- For averaging the loss across a minibatch of data we'll use `tf.reduce_mean`:\n",
    "https://www.tensorflow.org/versions/r2.0/api_docs/python/tf/reduce_mean\n",
    "\n",
    "- For computing gradients of the loss with respect to the weights we'll use `tf.GradientTape` (useful for Eager execution):  https://www.tensorflow.org/versions/r2.0/api_docs/python/tf/GradientTape\n",
    "\n",
    "- We'll mutate the weight values stored in a TensorFlow Tensor using `tf.assign_sub` (\"sub\" is for subtraction): https://www.tensorflow.org/api_docs/python/tf/assign_sub \n"
   ]
  },
  {
   "cell_type": "code",
   "execution_count": 0,
   "metadata": {
    "colab": {},
    "colab_type": "code",
    "id": "7J2EMxGtz4al",
    "tags": [
     "pdf-ignore"
    ]
   },
   "outputs": [],
   "source": [
    "def training_step(model_fn, x, y, params, learning_rate):\n",
    "    with tf.GradientTape() as tape:\n",
    "        scores = model_fn(x, params) # Forward pass of the model\n",
    "        loss = tf.nn.sparse_softmax_cross_entropy_with_logits(labels=y, logits=scores)\n",
    "        total_loss = tf.reduce_mean(loss)\n",
    "        grad_params = tape.gradient(total_loss, params)\n",
    "\n",
    "        # Make a vanilla gradient descent step on all of the model parameters\n",
    "        # Manually update the weights using assign_sub()\n",
    "        for w, grad_w in zip(params, grad_params):\n",
    "            w.assign_sub(learning_rate * grad_w)\n",
    "                        \n",
    "        return total_loss"
   ]
  },
  {
   "cell_type": "code",
   "execution_count": 0,
   "metadata": {
    "colab": {},
    "colab_type": "code",
    "id": "zqiX_g1Cz4ao",
    "tags": [
     "pdf-ignore"
    ]
   },
   "outputs": [],
   "source": [
    "def train_part2(model_fn, init_fn, learning_rate, epochs):\n",
    "    \"\"\"\n",
    "    Train a model on CIFAR-10.\n",
    "    \n",
    "    Inputs:\n",
    "    - model_fn: A Python function that performs the forward pass of the model\n",
    "      using TensorFlow; it should have the following signature:\n",
    "      scores = model_fn(x, params) where x is a TensorFlow Tensor giving a\n",
    "      minibatch of image data, params is a list of TensorFlow Tensors holding\n",
    "      the model weights, and scores is a TensorFlow Tensor of shape (N, C)\n",
    "      giving scores for all elements of x.\n",
    "    - init_fn: A Python function that initializes the parameters of the model.\n",
    "      It should have the signature params = init_fn() where params is a list\n",
    "      of TensorFlow Tensors holding the (randomly initialized) weights of the\n",
    "      model.\n",
    "    - learning_rate: Python float giving the learning rate to use for SGD.\n",
    "    \"\"\"\n",
    "    \n",
    "    \n",
    "    params = init_fn()  # Initialize the model parameters            \n",
    "    for e in range(epochs):    \n",
    "        for t, (x_np, y_np) in enumerate(train_dset):\n",
    "            # Run the graph on a batch of training data.\n",
    "            loss = training_step(model_fn, x_np, y_np, params, learning_rate)\n",
    "\n",
    "            # Periodically print the loss and check accuracy on the val set.\n",
    "            if t % print_every == 0:\n",
    "                print('Epoch %d, iteration %d, loss = %.4f' % (e, t, loss))\n",
    "                print('Validation:')\n",
    "                check_accuracy(val_dset, model_fn, params)\n",
    "    return params\n",
    "                "
   ]
  },
  {
   "cell_type": "code",
   "execution_count": 0,
   "metadata": {
    "colab": {},
    "colab_type": "code",
    "id": "ANGAtXFpz4ar",
    "tags": [
     "pdf-ignore"
    ]
   },
   "outputs": [],
   "source": [
    "def check_accuracy(dset, model_fn, params):\n",
    "    \"\"\"\n",
    "    Check accuracy on a classification model, e.g. for validation.\n",
    "    \n",
    "    Inputs:\n",
    "    - dset: A Dataset object against which to check accuracy\n",
    "    - x: A TensorFlow placeholder Tensor where input images should be fed\n",
    "    - model_fn: the Model we will be calling to make predictions on x\n",
    "    - params: parameters for the model_fn to work with\n",
    "      \n",
    "    Returns: Nothing, but prints the accuracy of the model\n",
    "    \"\"\"\n",
    "    num_correct, num_samples = 0, 0\n",
    "    for x_batch, y_batch in dset:\n",
    "        scores_np = model_fn(x_batch, params).numpy()\n",
    "        y_pred = scores_np.argmax(axis=1)\n",
    "        num_samples += x_batch.shape[0]\n",
    "        num_correct += (y_pred == y_batch).sum()\n",
    "    acc = float(num_correct) / num_samples\n",
    "    print('     Got %d / %d correct (%.2f%%)' % (num_correct, num_samples, 100 * acc))"
   ]
  },
  {
   "cell_type": "markdown",
   "metadata": {
    "colab_type": "text",
    "id": "iobum2Lnz4au"
   },
   "source": [
    "### Barebones TensorFlow: Initialization\n",
    "We'll use the following utility method to initialize the weight matrices for our models using Kaiming's normalization method.\n",
    "\n",
    "[1] He et al, *Delving Deep into Rectifiers: Surpassing Human-Level Performance on ImageNet Classification\n",
    "*, ICCV 2015, https://arxiv.org/abs/1502.01852"
   ]
  },
  {
   "cell_type": "code",
   "execution_count": 0,
   "metadata": {
    "colab": {},
    "colab_type": "code",
    "id": "JXIfxmnkz4av"
   },
   "outputs": [],
   "source": [
    "def create_matrix_with_kaiming_normal(shape):\n",
    "    if len(shape) == 2:\n",
    "        fan_in, fan_out = shape[0], shape[1]\n",
    "    elif len(shape) == 4:\n",
    "        fan_in, fan_out = np.prod(shape[:3]), shape[3]\n",
    "    return tf.keras.backend.random_normal(shape) * np.sqrt(2.0 / fan_in)"
   ]
  },
  {
   "cell_type": "markdown",
   "metadata": {
    "colab_type": "text",
    "id": "EIbNbLKdz4ay"
   },
   "source": [
    "### Barebones TensorFlow: Train a Two-Layer Network\n",
    "We are finally ready to use all of the pieces defined above to train a two-layer fully-connected network on CIFAR-10.\n",
    "\n",
    "We just need to define a function to initialize the weights of the model, and call `train_part2`.\n",
    "\n",
    "Defining the weights of the network introduces another important piece of TensorFlow API: `tf.Variable`. A TensorFlow Variable is a Tensor whose value is stored in the graph and persists across runs of the computational graph; however unlike constants defined with `tf.zeros` or `tf.random_normal`, the values of a Variable can be mutated as the graph runs; these mutations will persist across graph runs. Learnable parameters of the network are usually stored in Variables.\n",
    "\n",
    "You don't need to tune any hyperparameters, but you should achieve validation accuracies above 40% after one epoch of training."
   ]
  },
  {
   "cell_type": "code",
   "execution_count": 46,
   "metadata": {
    "colab": {
     "base_uri": "https://localhost:8080/",
     "height": 1000
    },
    "colab_type": "code",
    "id": "hLOxWc5zz4az",
    "jupyter": {
     "outputs_hidden": true
    },
    "outputId": "e2f157ab-edf1-4548-d575-e059fcd0051b"
   },
   "outputs": [
    {
     "name": "stdout",
     "output_type": "stream",
     "text": [
      "Train\n",
      "Epoch 0, iteration 0, loss = 3.4355\n",
      "Validation:\n",
      "     Got 121 / 1000 correct (12.10%)\n",
      "Epoch 0, iteration 100, loss = 1.7129\n",
      "Validation:\n",
      "     Got 368 / 1000 correct (36.80%)\n",
      "Epoch 0, iteration 200, loss = 1.5572\n",
      "Validation:\n",
      "     Got 378 / 1000 correct (37.80%)\n",
      "Epoch 0, iteration 300, loss = 1.8456\n",
      "Validation:\n",
      "     Got 381 / 1000 correct (38.10%)\n",
      "Epoch 0, iteration 400, loss = 1.7284\n",
      "Validation:\n",
      "     Got 420 / 1000 correct (42.00%)\n",
      "Epoch 0, iteration 500, loss = 1.8040\n",
      "Validation:\n",
      "     Got 426 / 1000 correct (42.60%)\n",
      "Epoch 0, iteration 600, loss = 1.9023\n",
      "Validation:\n",
      "     Got 403 / 1000 correct (40.30%)\n",
      "Epoch 0, iteration 700, loss = 1.9742\n",
      "Validation:\n",
      "     Got 439 / 1000 correct (43.90%)\n",
      "Epoch 1, iteration 0, loss = 1.5130\n",
      "Validation:\n",
      "     Got 433 / 1000 correct (43.30%)\n",
      "Epoch 1, iteration 100, loss = 1.4231\n",
      "Validation:\n",
      "     Got 481 / 1000 correct (48.10%)\n",
      "Epoch 1, iteration 200, loss = 1.2068\n",
      "Validation:\n",
      "     Got 467 / 1000 correct (46.70%)\n",
      "Epoch 1, iteration 300, loss = 1.5344\n",
      "Validation:\n",
      "     Got 440 / 1000 correct (44.00%)\n",
      "Epoch 1, iteration 400, loss = 1.4113\n",
      "Validation:\n",
      "     Got 468 / 1000 correct (46.80%)\n",
      "Epoch 1, iteration 500, loss = 1.6253\n",
      "Validation:\n",
      "     Got 467 / 1000 correct (46.70%)\n",
      "Epoch 1, iteration 600, loss = 1.7059\n",
      "Validation:\n",
      "     Got 460 / 1000 correct (46.00%)\n",
      "Epoch 1, iteration 700, loss = 1.6469\n",
      "Validation:\n",
      "     Got 477 / 1000 correct (47.70%)\n",
      "Epoch 2, iteration 0, loss = 1.3232\n",
      "Validation:\n",
      "     Got 469 / 1000 correct (46.90%)\n",
      "Epoch 2, iteration 100, loss = 1.3388\n",
      "Validation:\n",
      "     Got 512 / 1000 correct (51.20%)\n",
      "Epoch 2, iteration 200, loss = 1.0448\n",
      "Validation:\n",
      "     Got 494 / 1000 correct (49.40%)\n",
      "Epoch 2, iteration 300, loss = 1.3852\n",
      "Validation:\n",
      "     Got 460 / 1000 correct (46.00%)\n",
      "Epoch 2, iteration 400, loss = 1.2516\n",
      "Validation:\n",
      "     Got 487 / 1000 correct (48.70%)\n",
      "Epoch 2, iteration 500, loss = 1.5215\n",
      "Validation:\n",
      "     Got 486 / 1000 correct (48.60%)\n",
      "Epoch 2, iteration 600, loss = 1.5626\n",
      "Validation:\n",
      "     Got 482 / 1000 correct (48.20%)\n",
      "Epoch 2, iteration 700, loss = 1.4820\n",
      "Validation:\n",
      "     Got 501 / 1000 correct (50.10%)\n",
      "Epoch 3, iteration 0, loss = 1.2096\n",
      "Validation:\n",
      "     Got 494 / 1000 correct (49.40%)\n",
      "Epoch 3, iteration 100, loss = 1.2626\n",
      "Validation:\n",
      "     Got 518 / 1000 correct (51.80%)\n",
      "Epoch 3, iteration 200, loss = 0.9414\n",
      "Validation:\n",
      "     Got 509 / 1000 correct (50.90%)\n",
      "Epoch 3, iteration 300, loss = 1.2750\n",
      "Validation:\n",
      "     Got 472 / 1000 correct (47.20%)\n",
      "Epoch 3, iteration 400, loss = 1.1342\n",
      "Validation:\n",
      "     Got 499 / 1000 correct (49.90%)\n",
      "Epoch 3, iteration 500, loss = 1.4362\n",
      "Validation:\n",
      "     Got 503 / 1000 correct (50.30%)\n",
      "Epoch 3, iteration 600, loss = 1.4343\n",
      "Validation:\n",
      "     Got 492 / 1000 correct (49.20%)\n",
      "Epoch 3, iteration 700, loss = 1.3693\n",
      "Validation:\n",
      "     Got 520 / 1000 correct (52.00%)\n",
      "Epoch 4, iteration 0, loss = 1.1238\n",
      "Validation:\n",
      "     Got 501 / 1000 correct (50.10%)\n",
      "Epoch 4, iteration 100, loss = 1.1916\n",
      "Validation:\n",
      "     Got 528 / 1000 correct (52.80%)\n",
      "Epoch 4, iteration 200, loss = 0.8585\n",
      "Validation:\n",
      "     Got 520 / 1000 correct (52.00%)\n",
      "Epoch 4, iteration 300, loss = 1.1946\n",
      "Validation:\n",
      "     Got 479 / 1000 correct (47.90%)\n",
      "Epoch 4, iteration 400, loss = 1.0354\n",
      "Validation:\n",
      "     Got 504 / 1000 correct (50.40%)\n",
      "Epoch 4, iteration 500, loss = 1.3536\n",
      "Validation:\n",
      "     Got 511 / 1000 correct (51.10%)\n",
      "Epoch 4, iteration 600, loss = 1.3200\n",
      "Validation:\n",
      "     Got 498 / 1000 correct (49.80%)\n",
      "Epoch 4, iteration 700, loss = 1.2753\n",
      "Validation:\n",
      "     Got 520 / 1000 correct (52.00%)\n",
      "Done!\n"
     ]
    }
   ],
   "source": [
    "def two_layer_fc_init():\n",
    "    \"\"\"\n",
    "    Initialize the weights of a two-layer network, for use with the\n",
    "    two_layer_network function defined above. \n",
    "    You can use the `create_matrix_with_kaiming_normal` helper!\n",
    "    \n",
    "    Inputs: None\n",
    "    \n",
    "    Returns: A list of:\n",
    "    - w1: TensorFlow tf.Variable giving the weights for the first layer\n",
    "    - w2: TensorFlow tf.Variable giving the weights for the second layer\n",
    "    \"\"\"\n",
    "    hidden_layer_size = 4000\n",
    "    w1 = tf.Variable(create_matrix_with_kaiming_normal((3 * 32 * 32, 4000)))\n",
    "    w2 = tf.Variable(create_matrix_with_kaiming_normal((4000, 10)))\n",
    "    return [w1, w2]\n",
    "\n",
    "learning_rate = 1e-2\n",
    "print('Train')\n",
    "trained_params = train_part2(two_layer_fc, two_layer_fc_init, learning_rate,5)\n",
    "print('Done!')"
   ]
  },
  {
   "cell_type": "markdown",
   "metadata": {
    "colab_type": "text",
    "id": "wqs8tooqz4a1"
   },
   "source": [
    "### Test Set - DO THIS ONLY ONCE\n",
    "Now that we've gotten a result that we're happy with, we test our final model on the test set. This would be the score we would achieve on a competition. Think about how this compares to your validation set accuracy."
   ]
  },
  {
   "cell_type": "code",
   "execution_count": 47,
   "metadata": {
    "colab": {
     "base_uri": "https://localhost:8080/",
     "height": 50
    },
    "colab_type": "code",
    "id": "0Ske33ktz4a2",
    "outputId": "f5bfeafc-585e-49eb-b31e-0694be14c584"
   },
   "outputs": [
    {
     "name": "stdout",
     "output_type": "stream",
     "text": [
      "Test\n",
      "     Got 4992 / 10000 correct (49.92%)\n"
     ]
    }
   ],
   "source": [
    "print('Test')\n",
    "check_accuracy(test_dset, two_layer_fc, trained_params)"
   ]
  },
  {
   "cell_type": "markdown",
   "metadata": {
    "colab_type": "text",
    "id": "4S1py_Nhz4a5"
   },
   "source": [
    "### Barebones TensorFlow: Train a three-layer ConvNet\n",
    "We will now use TensorFlow to train a three-layer ConvNet on CIFAR-10.\n",
    "\n",
    "You need to implement the `three_layer_convnet_init` function. Recall that the architecture of the network is:\n",
    "\n",
    "1. Convolutional layer (with bias) with 32 5x5 filters, with zero-padding 2\n",
    "2. ReLU\n",
    "3. Convolutional layer (with bias) with 16 3x3 filters, with zero-padding 1\n",
    "4. ReLU\n",
    "5. Fully-connected layer (with bias) to compute scores for 10 classes\n",
    "\n",
    "You don't need to do any hyperparameter tuning, but you should see validation accuracies above 43% after one epoch of training."
   ]
  },
  {
   "cell_type": "code",
   "execution_count": 64,
   "metadata": {
    "colab": {
     "base_uri": "https://localhost:8080/",
     "height": 1000
    },
    "colab_type": "code",
    "id": "cp37LVyqz4a5",
    "outputId": "10641e5c-cb40-429a-f2f8-6baba3a62446"
   },
   "outputs": [
    {
     "name": "stdout",
     "output_type": "stream",
     "text": [
      "Epoch 0, iteration 0, loss = 2.6309\n",
      "Validation:\n",
      "     Got 98 / 1000 correct (9.80%)\n",
      "Epoch 0, iteration 100, loss = 2.0415\n",
      "Validation:\n",
      "     Got 358 / 1000 correct (35.80%)\n",
      "Epoch 0, iteration 200, loss = 1.5574\n",
      "Validation:\n",
      "     Got 396 / 1000 correct (39.60%)\n",
      "Epoch 0, iteration 300, loss = 1.7045\n",
      "Validation:\n",
      "     Got 400 / 1000 correct (40.00%)\n",
      "Epoch 0, iteration 400, loss = 1.5402\n",
      "Validation:\n",
      "     Got 439 / 1000 correct (43.90%)\n",
      "Epoch 0, iteration 500, loss = 1.6839\n",
      "Validation:\n",
      "     Got 455 / 1000 correct (45.50%)\n",
      "Epoch 0, iteration 600, loss = 1.6353\n",
      "Validation:\n",
      "     Got 466 / 1000 correct (46.60%)\n",
      "Epoch 0, iteration 700, loss = 1.5504\n",
      "Validation:\n",
      "     Got 479 / 1000 correct (47.90%)\n",
      "Epoch 1, iteration 0, loss = 1.3764\n",
      "Validation:\n",
      "     Got 477 / 1000 correct (47.70%)\n",
      "Epoch 1, iteration 100, loss = 1.4375\n",
      "Validation:\n",
      "     Got 493 / 1000 correct (49.30%)\n",
      "Epoch 1, iteration 200, loss = 1.1865\n",
      "Validation:\n",
      "     Got 490 / 1000 correct (49.00%)\n",
      "Epoch 1, iteration 300, loss = 1.4068\n",
      "Validation:\n",
      "     Got 485 / 1000 correct (48.50%)\n",
      "Epoch 1, iteration 400, loss = 1.2652\n",
      "Validation:\n",
      "     Got 506 / 1000 correct (50.60%)\n",
      "Epoch 1, iteration 500, loss = 1.5137\n",
      "Validation:\n",
      "     Got 518 / 1000 correct (51.80%)\n",
      "Epoch 1, iteration 600, loss = 1.4978\n",
      "Validation:\n",
      "     Got 528 / 1000 correct (52.80%)\n",
      "Epoch 1, iteration 700, loss = 1.3823\n",
      "Validation:\n",
      "     Got 527 / 1000 correct (52.70%)\n",
      "Epoch 2, iteration 0, loss = 1.2375\n",
      "Validation:\n",
      "     Got 527 / 1000 correct (52.70%)\n",
      "Epoch 2, iteration 100, loss = 1.2786\n",
      "Validation:\n",
      "     Got 546 / 1000 correct (54.60%)\n",
      "Epoch 2, iteration 200, loss = 1.0610\n",
      "Validation:\n",
      "     Got 529 / 1000 correct (52.90%)\n",
      "Epoch 2, iteration 300, loss = 1.2936\n",
      "Validation:\n",
      "     Got 517 / 1000 correct (51.70%)\n",
      "Epoch 2, iteration 400, loss = 1.1424\n",
      "Validation:\n",
      "     Got 543 / 1000 correct (54.30%)\n",
      "Epoch 2, iteration 500, loss = 1.4143\n",
      "Validation:\n",
      "     Got 542 / 1000 correct (54.20%)\n",
      "Epoch 2, iteration 600, loss = 1.4192\n",
      "Validation:\n",
      "     Got 552 / 1000 correct (55.20%)\n",
      "Epoch 2, iteration 700, loss = 1.2628\n",
      "Validation:\n",
      "     Got 558 / 1000 correct (55.80%)\n",
      "Epoch 3, iteration 0, loss = 1.1601\n",
      "Validation:\n",
      "     Got 558 / 1000 correct (55.80%)\n",
      "Epoch 3, iteration 100, loss = 1.1611\n",
      "Validation:\n",
      "     Got 566 / 1000 correct (56.60%)\n",
      "Epoch 3, iteration 200, loss = 1.0001\n",
      "Validation:\n",
      "     Got 554 / 1000 correct (55.40%)\n",
      "Epoch 3, iteration 300, loss = 1.2110\n",
      "Validation:\n",
      "     Got 548 / 1000 correct (54.80%)\n",
      "Epoch 3, iteration 400, loss = 1.0538\n",
      "Validation:\n",
      "     Got 564 / 1000 correct (56.40%)\n",
      "Epoch 3, iteration 500, loss = 1.3379\n",
      "Validation:\n",
      "     Got 557 / 1000 correct (55.70%)\n",
      "Epoch 3, iteration 600, loss = 1.3441\n",
      "Validation:\n",
      "     Got 572 / 1000 correct (57.20%)\n",
      "Epoch 3, iteration 700, loss = 1.1765\n",
      "Validation:\n",
      "     Got 572 / 1000 correct (57.20%)\n",
      "Epoch 4, iteration 0, loss = 1.1072\n",
      "Validation:\n",
      "     Got 576 / 1000 correct (57.60%)\n",
      "Epoch 4, iteration 100, loss = 1.0767\n",
      "Validation:\n",
      "     Got 580 / 1000 correct (58.00%)\n",
      "Epoch 4, iteration 200, loss = 0.9492\n",
      "Validation:\n",
      "     Got 574 / 1000 correct (57.40%)\n",
      "Epoch 4, iteration 300, loss = 1.1544\n",
      "Validation:\n",
      "     Got 555 / 1000 correct (55.50%)\n",
      "Epoch 4, iteration 400, loss = 0.9900\n",
      "Validation:\n",
      "     Got 576 / 1000 correct (57.60%)\n",
      "Epoch 4, iteration 500, loss = 1.2715\n",
      "Validation:\n",
      "     Got 568 / 1000 correct (56.80%)\n",
      "Epoch 4, iteration 600, loss = 1.2721\n",
      "Validation:\n",
      "     Got 580 / 1000 correct (58.00%)\n",
      "Epoch 4, iteration 700, loss = 1.1090\n",
      "Validation:\n",
      "     Got 577 / 1000 correct (57.70%)\n"
     ]
    }
   ],
   "source": [
    "def three_layer_convnet_init():\n",
    "    \"\"\"\n",
    "    Initialize the weights of a Three-Layer ConvNet, for use with the\n",
    "    three_layer_convnet function defined above.\n",
    "    You can use the `create_matrix_with_kaiming_normal` helper!\n",
    "    \n",
    "    Inputs: None\n",
    "    \n",
    "    Returns a list containing:\n",
    "    - conv_w1: TensorFlow tf.Variable giving weights for the first conv layer\n",
    "    - conv_b1: TensorFlow tf.Variable giving biases for the first conv layer\n",
    "    - conv_w2: TensorFlow tf.Variable giving weights for the second conv layer\n",
    "    - conv_b2: TensorFlow tf.Variable giving biases for the second conv layer\n",
    "    - fc_w: TensorFlow tf.Variable giving weights for the fully-connected layer\n",
    "    - fc_b: TensorFlow tf.Variable giving biases for the fully-connected layer\n",
    "    \"\"\"\n",
    "    params = None\n",
    "    ############################################################################\n",
    "    # TODO: Initialize the parameters of the three-layer network.              #\n",
    "    ############################################################################\n",
    "    # *****START OF YOUR CODE (DO NOT DELETE/MODIFY THIS LINE)*****\n",
    "\n",
    "    conv_w1 = tf.Variable(create_matrix_with_kaiming_normal((5, 5, 3, 32)))\n",
    "    conv_b1 = tf.Variable(tf.zeros((32,)))\n",
    "\n",
    "    conv_w2 = tf.Variable(create_matrix_with_kaiming_normal((3, 3, 32, 16)))\n",
    "    conv_b2 = tf.Variable(tf.zeros((16,)))\n",
    "\n",
    "    fc_w = tf.Variable(create_matrix_with_kaiming_normal((32 * 32 * 16, 10)))\n",
    "    fc_b = tf.Variable(tf.zeros((10,)))\n",
    "\n",
    "    params = [conv_w1, conv_b1, conv_w2, conv_b2, fc_w, fc_b]\n",
    "\n",
    "    pass\n",
    "\n",
    "    # *****END OF YOUR CODE (DO NOT DELETE/MODIFY THIS LINE)*****\n",
    "    ############################################################################\n",
    "    #                             END OF YOUR CODE                             #\n",
    "    ############################################################################\n",
    "    return params\n",
    "\n",
    "learning_rate = 3e-3\n",
    "trained_params = train_part2(three_layer_convnet, three_layer_convnet_init, learning_rate,5)"
   ]
  },
  {
   "cell_type": "code",
   "execution_count": 28,
   "metadata": {
    "colab": {
     "base_uri": "https://localhost:8080/",
     "height": 50
    },
    "colab_type": "code",
    "id": "N8g6i3ZrXmny",
    "outputId": "cdad4b7f-e9d5-49ca-80d6-f08863fe1f02"
   },
   "outputs": [
    {
     "name": "stdout",
     "output_type": "stream",
     "text": [
      "Test\n",
      "     Got 6150 / 10000 correct (61.50%)\n"
     ]
    }
   ],
   "source": [
    "print('Test')\n",
    "check_accuracy(test_dset, three_layer_convnet, trained_params)"
   ]
  },
  {
   "cell_type": "markdown",
   "metadata": {
    "colab_type": "text",
    "id": "36M7AiqOz4a8"
   },
   "source": [
    "# Part V: Train a _GREAT_ model on CIFAR-10!\n",
    "\n",
    "In this section you can experiment with whatever ConvNet architecture you'd like on CIFAR-10.\n",
    "\n",
    "You should experiment with architectures, hyperparameters, loss functions, regularization, or anything else you can think of to train a model that achieves **at least 70%** accuracy on the **validation** set within 10 epochs. You can use the built-in train function, the `train_part34` function from above, or implement your own training loop.\n",
    "\n",
    "Describe what you did at the end of the notebook.\n",
    "\n",
    "### Some things you can try:\n",
    "- **Filter size**: Above we used 5x5 and 3x3; is this optimal?\n",
    "- **Number of filters**: Above we used 16 and 32 filters. Would more or fewer do better?\n",
    "- **Pooling**: We didn't use any pooling above. Would this improve the model?\n",
    "- **Normalization**: Would your model be improved with batch normalization, layer normalization, group normalization, or some other normalization strategy?\n",
    "- **Network architecture**: The ConvNet above has only three layers of trainable parameters. Would a deeper model do better? Good architectures to try include:\n",
    "    - [conv-relu-pool]xN -> [affine]xM -> [softmax or SVM]\n",
    "    - [conv-relu-conv-relu-pool]xN -> [affine]xM -> [softmax or SVM]\n",
    "    - [batchnorm-relu-conv]xN -> [affine]xM -> [softmax or SVM]\n",
    "- **Global average pooling**: Instead of flattening after the final convolutional layer, would global average pooling do better? This strategy is used for example in Google's Inception network and in Residual Networks.\n",
    "- **Regularization**: Would some kind of regularization improve performance? Maybe weight decay or dropout?\n",
    "\n",
    "### NOTE: Batch Normalization / Dropout\n",
    "If you are using Batch Normalization and Dropout, remember to pass `is_training=True` if you use the `train_part34()` function. BatchNorm and Dropout layers have different behaviors at training and inference time. `training` is a specific keyword argument reserved for this purpose in any `tf.keras.Model`'s `call()` function. Read more about this here : https://www.tensorflow.org/versions/r2.0/api_docs/python/tf/keras/layers/BatchNormalization#methods\n",
    "https://www.tensorflow.org/versions/r2.0/api_docs/python/tf/keras/layers/Dropout#methods\n",
    "\n",
    "### Tips for training\n",
    "For each network architecture that you try, you should tune the learning rate and other hyperparameters. When doing this there are a couple important things to keep in mind: \n",
    "\n",
    "- If the parameters are working well, you should see improvement within a few hundred iterations\n",
    "- Remember the coarse-to-fine approach for hyperparameter tuning: start by testing a large range of hyperparameters for just a few training iterations to find the combinations of parameters that are working at all.\n",
    "- Once you have found some sets of parameters that seem to work, search more finely around these parameters. You may need to train for more epochs.\n",
    "- You should use the validation set for hyperparameter search, and save your test set for evaluating your architecture on the best parameters as selected by the validation set.\n",
    "\n",
    "### Going above and beyond\n",
    "If you are feeling adventurous there are many other features you can implement to try and improve your performance. You are **not required** to implement any of these, but don't miss the fun if you have time!\n",
    "\n",
    "- Alternative optimizers: you can try Adam, Adagrad, RMSprop, etc.\n",
    "- Alternative activation functions such as leaky ReLU, parametric ReLU, ELU, or MaxOut.\n",
    "- Model ensembles\n",
    "- Data augmentation\n",
    "- New Architectures\n",
    "  - [ResNets](https://arxiv.org/abs/1512.03385) where the input from the previous layer is added to the output.\n",
    "  - [DenseNets](https://arxiv.org/abs/1608.06993) where inputs into previous layers are concatenated together.\n",
    "  - [This blog has an in-depth overview](https://chatbotslife.com/resnets-highwaynets-and-densenets-oh-my-9bb15918ee32)\n",
    "  \n",
    "### Have fun and happy training! "
   ]
  },
  {
   "cell_type": "code",
   "execution_count": 0,
   "metadata": {
    "colab": {},
    "colab_type": "code",
    "id": "dkCkTV9Jz4a8"
   },
   "outputs": [],
   "source": [
    "# README: Own Implementation Below!!\n",
    "\n",
    "# def train_part34(model_init_fn, optimizer_init_fn, num_epochs=1, is_training=False):\n",
    "#  ############################################################################\n",
    "# # TODO: Train a model on CIFAR-10.                 #\n",
    "# ############################################################################\n",
    "# # *****START OF YOUR CODE (DO NOT DELETE/MODIFY THIS LINE)*****\n",
    "\n",
    "# pass\n",
    "\n",
    "# # *****END OF YOUR CODE (DO NOT DELETE/MODIFY THIS LINE)*****\n",
    "# ############################################################################\n",
    "# #                            END OF YOUR CODE                              #\n",
    "# ############################################################################"
   ]
  },
  {
   "cell_type": "code",
   "execution_count": 31,
   "metadata": {
    "colab": {
     "base_uri": "https://localhost:8080/",
     "height": 424
    },
    "colab_type": "code",
    "id": "hAakzXTNz4a_",
    "outputId": "465c6359-e750-42b9-e432-f3a6222c98be"
   },
   "outputs": [
    {
     "name": "stdout",
     "output_type": "stream",
     "text": [
      "Train\n",
      "Epoch 1/10\n",
      "766/766 [==============================] - 12s 15ms/step - loss: 1.5685 - accuracy: 0.4373 - val_loss: 1.3146 - val_accuracy: 0.5640\n",
      "Epoch 2/10\n",
      "766/766 [==============================] - 12s 15ms/step - loss: 1.1326 - accuracy: 0.5991 - val_loss: 0.9566 - val_accuracy: 0.6730\n",
      "Epoch 3/10\n",
      "766/766 [==============================] - 12s 15ms/step - loss: 0.9536 - accuracy: 0.6632 - val_loss: 0.9289 - val_accuracy: 0.6920\n",
      "Epoch 4/10\n",
      "766/766 [==============================] - 12s 15ms/step - loss: 0.8498 - accuracy: 0.6996 - val_loss: 0.8727 - val_accuracy: 0.6990\n",
      "Epoch 5/10\n",
      "766/766 [==============================] - 12s 15ms/step - loss: 0.7697 - accuracy: 0.7292 - val_loss: 0.8053 - val_accuracy: 0.7250\n",
      "Epoch 6/10\n",
      "766/766 [==============================] - 12s 15ms/step - loss: 0.7064 - accuracy: 0.7511 - val_loss: 0.9376 - val_accuracy: 0.6770\n",
      "Epoch 7/10\n",
      "766/766 [==============================] - 12s 15ms/step - loss: 0.6499 - accuracy: 0.7706 - val_loss: 0.7752 - val_accuracy: 0.7380\n",
      "Epoch 8/10\n",
      "766/766 [==============================] - 12s 15ms/step - loss: 0.6036 - accuracy: 0.7882 - val_loss: 0.7810 - val_accuracy: 0.7310\n",
      "Epoch 9/10\n",
      "766/766 [==============================] - 12s 15ms/step - loss: 0.5634 - accuracy: 0.8011 - val_loss: 0.7375 - val_accuracy: 0.7470\n",
      "Epoch 10/10\n",
      "766/766 [==============================] - 12s 15ms/step - loss: 0.5175 - accuracy: 0.8162 - val_loss: 0.8033 - val_accuracy: 0.7460\n",
      "Test\n",
      "Test loss: 0.8032934665679932\n",
      "Test accuracy: 0.732699990272522\n"
     ]
    }
   ],
   "source": [
    "class CustomConvNet(tf.keras.Model):\n",
    "    def __init__(self):\n",
    "        super(CustomConvNet, self).__init__()\n",
    "        ############################################################################\n",
    "        # TODO: Construct a model that performs well on CIFAR-10                   #\n",
    "        ############################################################################\n",
    "        # *****START OF YOUR CODE (DO NOT DELETE/MODIFY THIS LINE)*****\n",
    "        \n",
    "        self.conv1 = tf.keras.layers.Conv2D(32, 5, padding=\"same\", activation=\"relu\") \n",
    "        self.conv2 = tf.keras.layers.Conv2D(32, 5, padding=\"same\", activation=\"relu\")\n",
    "        self.maxpool1 = tf.keras.layers.MaxPooling2D(2)\n",
    "        self.bn1 = tf.keras.layers.BatchNormalization()\n",
    "\n",
    "        self.conv3 = tf.keras.layers.Conv2D(32, 3, padding=\"same\", activation=\"relu\")\n",
    "        self.maxpool2 = tf.keras.layers.MaxPooling2D(2)\n",
    "        self.bn2 = tf.keras.layers.BatchNormalization()\n",
    "\n",
    "        self.flatten = tf.keras.layers.Flatten()\n",
    "        self.dense1 = tf.keras.layers.Dense(200, activation='relu')\n",
    "        self.dropout1 = tf.keras.layers.Dropout(0.5)\n",
    "        self.dense2 = tf.keras.layers.Dense(50, activation='relu')\n",
    "        self.softmax = tf.keras.layers.Dense(10, activation='softmax')\n",
    "\n",
    "\n",
    "        # *****END OF YOUR CODE (DO NOT DELETE/MODIFY THIS LINE)*****\n",
    "        ############################################################################\n",
    "        #                            END OF YOUR CODE                              #\n",
    "        ############################################################################\n",
    "    \n",
    "    def call(self, input_tensor, training=False):\n",
    "        ############################################################################\n",
    "        # TODO: Construct a model that performs well on CIFAR-10                   #\n",
    "        ############################################################################\n",
    "        # *****START OF YOUR CODE (DO NOT DELETE/MODIFY THIS LINE)*****\n",
    "        \n",
    "        x = self.conv1(input_tensor) \n",
    "        x = self.conv2(x)\n",
    "        x = self.maxpool1(x)\n",
    "        x = self.bn1(x)\n",
    "\n",
    "        x = self.conv3(x)\n",
    "        x = self.maxpool2(x)\n",
    "        x = self.bn2(x)\n",
    "\n",
    "        x = self.flatten(x)\n",
    "        x = self.dense1(x)\n",
    "        x = self.dropout1(x)\n",
    "        x = self.dense2(x)\n",
    "        out = self.softmax(x)\n",
    "        return out\n",
    "\n",
    "\n",
    "        # *****END OF YOUR CODE (DO NOT DELETE/MODIFY THIS LINE)*****\n",
    "        ############################################################################\n",
    "        #                            END OF YOUR CODE                              #\n",
    "        ############################################################################\n",
    "        \n",
    "        return x\n",
    "\n",
    "device = '/device:GPU:0'   # Change this to a CPU/GPU as you wish!\n",
    "# device = '/cpu:0'        # Change this to a CPU/GPU as you wish!\n",
    "print_every = 700\n",
    "num_epochs = 10\n",
    "\n",
    "model = CustomConvNet()\n",
    "\n",
    "def model_init_fn():\n",
    "    return CustomConvNet()\n",
    "\n",
    "def optimizer_init_fn():\n",
    "    learning_rate = 1e-3\n",
    "    return tf.keras.optimizers.Adam(learning_rate) \n",
    "\n",
    "optimizer = optimizer_init_fn()\n",
    "\n",
    "# Own implementation of train_part34\n",
    "def train_part34(optimizer, loss, x, y, batch_size, epochs, val_x, val_y, shuffle):\n",
    "    model.compile(optimizer, loss, metrics=['accuracy'])\n",
    "    model.fit(x, y, batch_size, epochs, validation_data=(X_val, y_val), shuffle=True)\n",
    "\n",
    "print('Train')\n",
    "train_part34(optimizer=optimizer,\n",
    "             loss=\"sparse_categorical_crossentropy\",\n",
    "             x = X_train,\n",
    "             y = y_train,\n",
    "             batch_size = 64,\n",
    "             epochs = 10,\n",
    "             val_x = X_val,\n",
    "             val_y = y_val,\n",
    "             shuffle = True\n",
    "            )\n",
    "\n",
    "\n",
    "print('Test')\n",
    "score = model.evaluate(X_test, y_test, verbose=0)\n",
    "print('Test loss:', score[0])\n",
    "print('Test accuracy:', score[1])\n",
    "\n",
    "# print('Train')\n",
    "# trained_params = train_part34(model_init_fn, optimizer_init_fn, num_epochs=num_epochs, is_training=True)\n",
    "\n",
    "# print('Test')\n",
    "# check_accuracy(test_dset, model_init_fn, trained_params)"
   ]
  },
  {
   "cell_type": "markdown",
   "metadata": {
    "colab_type": "text",
    "id": "YjIlwBPzz4bC",
    "tags": [
     "pdf-inline"
    ]
   },
   "source": [
    "## Describe what you did \n",
    "\n",
    "In the cell below you should write an explanation of what you did, any additional features that you implemented, and/or any graphs that you made in the process of training and evaluating your network."
   ]
  },
  {
   "cell_type": "markdown",
   "metadata": {
    "colab_type": "text",
    "id": "y6GZ8t77z4bC",
    "tags": [
     "pdf-inline"
    ]
   },
   "source": [
    "TODO: Tell us what you did\n",
    "\n",
    "This neural network has two convolution blocks. The first convolution block has [conv-relu-conv-relu-pool-batchnorm] and the second convolution block has [conv-relu-pool-batchnorm]. I decided to use a shallower convolution block for the second block to reduce the parameters since it has already achieved a both a validation and test accuracy of above 70%. These two convolution blocks serves to filter features from the image and has a batchnormalisation at the end of each block that regularises the model and reduces internal covarint shifts. The maxpooling layer is used to reduce the number of parameters. After the two convolution blocks, I use [flatten-dense-dropout-dense-softmax]. The flatten is to convert the 4D inputs into 2D which is required for the next fully-connected dense layer. A dropout is used to prevent overfitting and helps to regularise training. Then another dense layer is used followed by a final softmax layer for classification. This final layer contains probabilities of the 10 classes in which the sum is 1 and the argmax would be the predicted label. \n",
    "\n"
   ]
  }
 ],
 "metadata": {
  "accelerator": "GPU",
  "colab": {
   "collapsed_sections": [],
   "name": "TensorFlow.ipynb",
   "provenance": []
  },
  "kernelspec": {
   "display_name": "Python 3",
   "language": "python",
   "name": "python3"
  },
  "language_info": {
   "codemirror_mode": {
    "name": "ipython",
    "version": 3
   },
   "file_extension": ".py",
   "mimetype": "text/x-python",
   "name": "python",
   "nbconvert_exporter": "python",
   "pygments_lexer": "ipython3",
   "version": "3.7.6"
  }
 },
 "nbformat": 4,
 "nbformat_minor": 1
}
